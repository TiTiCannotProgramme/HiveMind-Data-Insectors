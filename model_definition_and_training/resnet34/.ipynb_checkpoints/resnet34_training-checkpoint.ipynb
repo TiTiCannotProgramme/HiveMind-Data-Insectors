{
 "cells": [
  {
   "cell_type": "code",
   "execution_count": 1,
   "id": "ba49b507-64dc-4e0b-8c92-def9f84946eb",
   "metadata": {
    "tags": []
   },
   "outputs": [],
   "source": [
    "import torch\n",
    "import sys # Python system library needed to load custom functions\n",
    "import math # module with access to mathematical functions\n",
    "import os # for changing the directory\n",
    "\n",
    "import numpy as np  # for performing calculations on numerical arrays\n",
    "import pandas as pd  # home of the DataFrame construct, _the_ most important object for Data Science\n",
    "\n",
    "from IPython.display import Audio # for listening to our insects\n",
    "\n",
    "import matplotlib.pyplot as plt  # allows creation of insightful plots\n",
    "\n",
    "sys.path.append('../../audio_preprocessing')\n",
    "sys.path.append('../../src')\n",
    "sys.path.append('../../model_training_utils')\n",
    "%matplotlib inline\n",
    "\n",
    "import preprocessing_func\n",
    "from generator_to_dataset import PretraindModelsDataSet\n",
    "from gdsc_utils import PROJECT_DIR\n",
    "import model_training\n",
    "\n",
    "os.chdir(PROJECT_DIR) # changing our directory to root"
   ]
  },
  {
   "cell_type": "code",
   "execution_count": 2,
   "id": "4ccf4909",
   "metadata": {},
   "outputs": [],
   "source": [
    "#pip install soundfile"
   ]
  },
  {
   "cell_type": "code",
   "execution_count": 3,
   "id": "0cfa35be",
   "metadata": {},
   "outputs": [
    {
     "data": {
      "text/plain": [
       "'soundfile'"
      ]
     },
     "execution_count": 3,
     "metadata": {},
     "output_type": "execute_result"
    },
    {
     "data": {
      "text/plain": [
       "'soundfile'"
      ]
     },
     "execution_count": 3,
     "metadata": {},
     "output_type": "execute_result"
    }
   ],
   "source": [
    "import torchaudio\n",
    "\n",
    "str(torchaudio.get_audio_backend())"
   ]
  },
  {
   "cell_type": "code",
   "execution_count": 4,
   "id": "25832740-ef07-47bf-90d1-01fded63caae",
   "metadata": {
    "tags": []
   },
   "outputs": [
    {
     "data": {
      "text/html": [
       "<div>\n",
       "<style scoped>\n",
       "    .dataframe tbody tr th:only-of-type {\n",
       "        vertical-align: middle;\n",
       "    }\n",
       "\n",
       "    .dataframe tbody tr th {\n",
       "        vertical-align: top;\n",
       "    }\n",
       "\n",
       "    .dataframe thead th {\n",
       "        text-align: right;\n",
       "    }\n",
       "</style>\n",
       "<table border=\"1\" class=\"dataframe\">\n",
       "  <thead>\n",
       "    <tr style=\"text-align: right;\">\n",
       "      <th></th>\n",
       "      <th>file_name</th>\n",
       "      <th>unique_file</th>\n",
       "      <th>path</th>\n",
       "      <th>species</th>\n",
       "      <th>label</th>\n",
       "      <th>subset</th>\n",
       "      <th>sample_rate</th>\n",
       "      <th>num_frames</th>\n",
       "      <th>length</th>\n",
       "    </tr>\n",
       "  </thead>\n",
       "  <tbody>\n",
       "    <tr>\n",
       "      <th>0</th>\n",
       "      <td>Roeselianaroeselii_XC751814-dat028-019_edit1.wav</td>\n",
       "      <td>Roeselianaroeselii_XC751814-dat028-019</td>\n",
       "      <td>data/train/Roeselianaroeselii_XC751814-dat028-...</td>\n",
       "      <td>Roeselianaroeselii</td>\n",
       "      <td>56</td>\n",
       "      <td>train</td>\n",
       "      <td>44100</td>\n",
       "      <td>4586400</td>\n",
       "      <td>104.000000</td>\n",
       "    </tr>\n",
       "    <tr>\n",
       "      <th>1</th>\n",
       "      <td>Roeselianaroeselii_XC752367-dat006-010.wav</td>\n",
       "      <td>Roeselianaroeselii_XC752367-dat006-010</td>\n",
       "      <td>data/train/Roeselianaroeselii_XC752367-dat006-...</td>\n",
       "      <td>Roeselianaroeselii</td>\n",
       "      <td>56</td>\n",
       "      <td>train</td>\n",
       "      <td>44100</td>\n",
       "      <td>337571</td>\n",
       "      <td>7.654671</td>\n",
       "    </tr>\n",
       "    <tr>\n",
       "      <th>2</th>\n",
       "      <td>Yoyettacelis_GBIF2465208563_IN36000894_50988.wav</td>\n",
       "      <td>Yoyettacelis_GBIF2465208563_IN36000894_50988</td>\n",
       "      <td>data/train/Yoyettacelis_GBIF2465208563_IN36000...</td>\n",
       "      <td>Yoyettacelis</td>\n",
       "      <td>64</td>\n",
       "      <td>train</td>\n",
       "      <td>44100</td>\n",
       "      <td>220500</td>\n",
       "      <td>5.000000</td>\n",
       "    </tr>\n",
       "    <tr>\n",
       "      <th>3</th>\n",
       "      <td>Gomphocerippusrufus_XC752285-dat001-045.wav</td>\n",
       "      <td>Gomphocerippusrufus_XC752285-dat001-045</td>\n",
       "      <td>data/train/Gomphocerippusrufus_XC752285-dat001...</td>\n",
       "      <td>Gomphocerippusrufus</td>\n",
       "      <td>26</td>\n",
       "      <td>train</td>\n",
       "      <td>44100</td>\n",
       "      <td>693715</td>\n",
       "      <td>15.730499</td>\n",
       "    </tr>\n",
       "    <tr>\n",
       "      <th>5</th>\n",
       "      <td>Phaneropteranana_XC755717-221013-Phaneroptera-...</td>\n",
       "      <td>Phaneropteranana_XC755717-221013-Phaneroptera-...</td>\n",
       "      <td>data/train/Phaneropteranana_XC755717-221013-Ph...</td>\n",
       "      <td>Phaneropteranana</td>\n",
       "      <td>41</td>\n",
       "      <td>train</td>\n",
       "      <td>44100</td>\n",
       "      <td>88200</td>\n",
       "      <td>2.000000</td>\n",
       "    </tr>\n",
       "  </tbody>\n",
       "</table>\n",
       "</div>"
      ],
      "text/plain": [
       "                                           file_name  \\\n",
       "0   Roeselianaroeselii_XC751814-dat028-019_edit1.wav   \n",
       "1         Roeselianaroeselii_XC752367-dat006-010.wav   \n",
       "2   Yoyettacelis_GBIF2465208563_IN36000894_50988.wav   \n",
       "3        Gomphocerippusrufus_XC752285-dat001-045.wav   \n",
       "5  Phaneropteranana_XC755717-221013-Phaneroptera-...   \n",
       "\n",
       "                                         unique_file  \\\n",
       "0             Roeselianaroeselii_XC751814-dat028-019   \n",
       "1             Roeselianaroeselii_XC752367-dat006-010   \n",
       "2       Yoyettacelis_GBIF2465208563_IN36000894_50988   \n",
       "3            Gomphocerippusrufus_XC752285-dat001-045   \n",
       "5  Phaneropteranana_XC755717-221013-Phaneroptera-...   \n",
       "\n",
       "                                                path              species  \\\n",
       "0  data/train/Roeselianaroeselii_XC751814-dat028-...   Roeselianaroeselii   \n",
       "1  data/train/Roeselianaroeselii_XC752367-dat006-...   Roeselianaroeselii   \n",
       "2  data/train/Yoyettacelis_GBIF2465208563_IN36000...         Yoyettacelis   \n",
       "3  data/train/Gomphocerippusrufus_XC752285-dat001...  Gomphocerippusrufus   \n",
       "5  data/train/Phaneropteranana_XC755717-221013-Ph...     Phaneropteranana   \n",
       "\n",
       "   label subset  sample_rate  num_frames      length  \n",
       "0     56  train        44100     4586400  104.000000  \n",
       "1     56  train        44100      337571    7.654671  \n",
       "2     64  train        44100      220500    5.000000  \n",
       "3     26  train        44100      693715   15.730499  \n",
       "5     41  train        44100       88200    2.000000  "
      ]
     },
     "execution_count": 4,
     "metadata": {},
     "output_type": "execute_result"
    },
    {
     "data": {
      "text/html": [
       "<div>\n",
       "<style scoped>\n",
       "    .dataframe tbody tr th:only-of-type {\n",
       "        vertical-align: middle;\n",
       "    }\n",
       "\n",
       "    .dataframe tbody tr th {\n",
       "        vertical-align: top;\n",
       "    }\n",
       "\n",
       "    .dataframe thead th {\n",
       "        text-align: right;\n",
       "    }\n",
       "</style>\n",
       "<table border=\"1\" class=\"dataframe\">\n",
       "  <thead>\n",
       "    <tr style=\"text-align: right;\">\n",
       "      <th></th>\n",
       "      <th>file_name</th>\n",
       "      <th>unique_file</th>\n",
       "      <th>path</th>\n",
       "      <th>species</th>\n",
       "      <th>label</th>\n",
       "      <th>subset</th>\n",
       "      <th>sample_rate</th>\n",
       "      <th>num_frames</th>\n",
       "      <th>length</th>\n",
       "    </tr>\n",
       "  </thead>\n",
       "  <tbody>\n",
       "    <tr>\n",
       "      <th>0</th>\n",
       "      <td>Roeselianaroeselii_XC751814-dat028-019_edit1.wav</td>\n",
       "      <td>Roeselianaroeselii_XC751814-dat028-019</td>\n",
       "      <td>data/train/Roeselianaroeselii_XC751814-dat028-...</td>\n",
       "      <td>Roeselianaroeselii</td>\n",
       "      <td>56</td>\n",
       "      <td>train</td>\n",
       "      <td>44100</td>\n",
       "      <td>4586400</td>\n",
       "      <td>104.000000</td>\n",
       "    </tr>\n",
       "    <tr>\n",
       "      <th>1</th>\n",
       "      <td>Roeselianaroeselii_XC752367-dat006-010.wav</td>\n",
       "      <td>Roeselianaroeselii_XC752367-dat006-010</td>\n",
       "      <td>data/train/Roeselianaroeselii_XC752367-dat006-...</td>\n",
       "      <td>Roeselianaroeselii</td>\n",
       "      <td>56</td>\n",
       "      <td>train</td>\n",
       "      <td>44100</td>\n",
       "      <td>337571</td>\n",
       "      <td>7.654671</td>\n",
       "    </tr>\n",
       "    <tr>\n",
       "      <th>2</th>\n",
       "      <td>Yoyettacelis_GBIF2465208563_IN36000894_50988.wav</td>\n",
       "      <td>Yoyettacelis_GBIF2465208563_IN36000894_50988</td>\n",
       "      <td>data/train/Yoyettacelis_GBIF2465208563_IN36000...</td>\n",
       "      <td>Yoyettacelis</td>\n",
       "      <td>64</td>\n",
       "      <td>train</td>\n",
       "      <td>44100</td>\n",
       "      <td>220500</td>\n",
       "      <td>5.000000</td>\n",
       "    </tr>\n",
       "    <tr>\n",
       "      <th>3</th>\n",
       "      <td>Gomphocerippusrufus_XC752285-dat001-045.wav</td>\n",
       "      <td>Gomphocerippusrufus_XC752285-dat001-045</td>\n",
       "      <td>data/train/Gomphocerippusrufus_XC752285-dat001...</td>\n",
       "      <td>Gomphocerippusrufus</td>\n",
       "      <td>26</td>\n",
       "      <td>train</td>\n",
       "      <td>44100</td>\n",
       "      <td>693715</td>\n",
       "      <td>15.730499</td>\n",
       "    </tr>\n",
       "    <tr>\n",
       "      <th>5</th>\n",
       "      <td>Phaneropteranana_XC755717-221013-Phaneroptera-...</td>\n",
       "      <td>Phaneropteranana_XC755717-221013-Phaneroptera-...</td>\n",
       "      <td>data/train/Phaneropteranana_XC755717-221013-Ph...</td>\n",
       "      <td>Phaneropteranana</td>\n",
       "      <td>41</td>\n",
       "      <td>train</td>\n",
       "      <td>44100</td>\n",
       "      <td>88200</td>\n",
       "      <td>2.000000</td>\n",
       "    </tr>\n",
       "  </tbody>\n",
       "</table>\n",
       "</div>"
      ],
      "text/plain": [
       "                                           file_name  \\\n",
       "0   Roeselianaroeselii_XC751814-dat028-019_edit1.wav   \n",
       "1         Roeselianaroeselii_XC752367-dat006-010.wav   \n",
       "2   Yoyettacelis_GBIF2465208563_IN36000894_50988.wav   \n",
       "3        Gomphocerippusrufus_XC752285-dat001-045.wav   \n",
       "5  Phaneropteranana_XC755717-221013-Phaneroptera-...   \n",
       "\n",
       "                                         unique_file  \\\n",
       "0             Roeselianaroeselii_XC751814-dat028-019   \n",
       "1             Roeselianaroeselii_XC752367-dat006-010   \n",
       "2       Yoyettacelis_GBIF2465208563_IN36000894_50988   \n",
       "3            Gomphocerippusrufus_XC752285-dat001-045   \n",
       "5  Phaneropteranana_XC755717-221013-Phaneroptera-...   \n",
       "\n",
       "                                                path              species  \\\n",
       "0  data/train/Roeselianaroeselii_XC751814-dat028-...   Roeselianaroeselii   \n",
       "1  data/train/Roeselianaroeselii_XC752367-dat006-...   Roeselianaroeselii   \n",
       "2  data/train/Yoyettacelis_GBIF2465208563_IN36000...         Yoyettacelis   \n",
       "3  data/train/Gomphocerippusrufus_XC752285-dat001...  Gomphocerippusrufus   \n",
       "5  data/train/Phaneropteranana_XC755717-221013-Ph...     Phaneropteranana   \n",
       "\n",
       "   label subset  sample_rate  num_frames      length  \n",
       "0     56  train        44100     4586400  104.000000  \n",
       "1     56  train        44100      337571    7.654671  \n",
       "2     64  train        44100      220500    5.000000  \n",
       "3     26  train        44100      693715   15.730499  \n",
       "5     41  train        44100       88200    2.000000  "
      ]
     },
     "execution_count": 4,
     "metadata": {},
     "output_type": "execute_result"
    }
   ],
   "source": [
    "df = pd.read_csv('data/metadata.csv')\n",
    "df_train = df[df[\"subset\"] == \"train\"]\n",
    "df_val = df[df[\"subset\"] == \"validation\"]\n",
    "df_train.head()"
   ]
  },
  {
   "cell_type": "code",
   "execution_count": 5,
   "id": "0b57f411-58dd-478e-9859-2b1eff0ccd63",
   "metadata": {
    "tags": []
   },
   "outputs": [],
   "source": [
    "import json\n",
    "\n",
    "with open('audio_preprocessing/saved_data/default_generator_data.json') as f:\n",
    "    metadata = json.load(f)\n",
    "\n",
    "mean, std, class_weights = metadata[\"mean\"], metadata[\"std\"], metadata[\"class_weights\"]"
   ]
  },
  {
   "cell_type": "code",
   "execution_count": 6,
   "id": "0cdc633d-0c5f-4e2c-abb3-4ab98908611e",
   "metadata": {
    "tags": []
   },
   "outputs": [],
   "source": [
    "train_dataset = PretraindModelsDataSet(preprocessing_func.pretrained_vision_models_data_generator, df_train, True)\n",
    "val_dataset = PretraindModelsDataSet(preprocessing_func.pretrained_vision_models_data_generator, df_val, False)\n",
    "\n",
    "train_dataloader = torch.utils.data.DataLoader(train_dataset, batch_size=28)\n",
    "val_dataloader = torch.utils.data.DataLoader(val_dataset, batch_size=28)"
   ]
  },
  {
   "cell_type": "code",
   "execution_count": 7,
   "id": "9bda2700-1062-4f1b-9e98-1e06e26c5e42",
   "metadata": {
    "tags": []
   },
   "outputs": [],
   "source": [
    "device = model_training.get_device()"
   ]
  },
  {
   "cell_type": "code",
   "execution_count": 8,
   "id": "b855edc0-14e9-4552-9ee5-bccc1d501ed9",
   "metadata": {
    "tags": []
   },
   "outputs": [
    {
     "name": "stdout",
     "output_type": "stream",
     "text": [
      "cuda:0\n",
      "cuda:0\n"
     ]
    }
   ],
   "source": [
    "print(device)"
   ]
  },
  {
   "cell_type": "code",
   "execution_count": 9,
   "id": "874377e9-3c7a-404f-873a-b327f9203074",
   "metadata": {
    "tags": []
   },
   "outputs": [],
   "source": [
    "from torchvision.models import resnet34, ResNet34_Weights\n",
    "import torch.nn as nn\n",
    "import torch.optim as optim\n",
    "\n",
    "#resnet_model = resnet34(weights=ResNet34_Weights.DEFAULT)\n",
    "resnet_model = resnet34()\n",
    "resnet_model.fc = nn.Linear(512, 66)\n",
    "resnet_model.conv1 = nn.Conv2d(1, 64, kernel_size=(7, 7), stride=(2, 2), padding=(3, 3), bias=False)\n",
    "resnet_model = resnet_model.to(device)"
   ]
  },
  {
   "cell_type": "code",
   "execution_count": 10,
   "id": "3ba1d5e3-f8a1-411b-bbf2-f409fd3bc416",
   "metadata": {
    "tags": []
   },
   "outputs": [],
   "source": [
    "optimizer = optim.Adam(resnet_model.parameters())\n",
    "loss = nn.CrossEntropyLoss(weight=torch.tensor(class_weights).to(device))"
   ]
  },
  {
   "cell_type": "code",
   "execution_count": 11,
   "id": "251f8c0a-265d-4ba4-add5-e5c10b6e1beb",
   "metadata": {
    "tags": []
   },
   "outputs": [
    {
     "name": "stdout",
     "output_type": "stream",
     "text": [
      "End of epoch 0: training accuracy = 2.95%, training loss = 4.361903083117711, training time taken = 98.75 seconds\n",
      "End of epoch 0: training accuracy = 2.95%, training loss = 4.361903083117711, training time taken = 98.75 seconds\n",
      "End of epoch 0: validation accuracy = 2.04%, validation loss = 4.460926574356151, validation time taken = 24.67 seconds\n",
      "End of epoch 0: validation accuracy = 2.04%, validation loss = 4.460926574356151, validation time taken = 24.67 seconds\n",
      "End of epoch 1: training accuracy = 2.80%, training loss = 4.196191974457978, training time taken = 100.62 seconds\n",
      "End of epoch 1: training accuracy = 2.80%, training loss = 4.196191974457978, training time taken = 100.62 seconds\n",
      "End of epoch 1: validation accuracy = 5.11%, validation loss = 4.104561716880438, validation time taken = 26.06 seconds\n",
      "End of epoch 1: validation accuracy = 5.11%, validation loss = 4.104561716880438, validation time taken = 26.06 seconds\n",
      "End of epoch 2: training accuracy = 3.23%, training loss = 4.171963530813338, training time taken = 101.22 seconds\n",
      "End of epoch 2: training accuracy = 3.23%, training loss = 4.171963530813338, training time taken = 101.22 seconds\n",
      "End of epoch 2: validation accuracy = 0.40%, validation loss = 42.41261410488273, validation time taken = 26.03 seconds\n",
      "End of epoch 2: validation accuracy = 0.40%, validation loss = 42.41261410488273, validation time taken = 26.03 seconds\n",
      "End of epoch 3: training accuracy = 4.68%, training loss = 4.1360099157156975, training time taken = 95.46 seconds\n",
      "End of epoch 3: training accuracy = 4.68%, training loss = 4.1360099157156975, training time taken = 95.46 seconds\n",
      "End of epoch 3: validation accuracy = 2.22%, validation loss = 5.9988356592520224, validation time taken = 24.82 seconds\n",
      "End of epoch 3: validation accuracy = 2.22%, validation loss = 5.9988356592520224, validation time taken = 24.82 seconds\n",
      "End of epoch 4: training accuracy = 4.83%, training loss = 4.128086781570677, training time taken = 93.12 seconds\n",
      "End of epoch 4: training accuracy = 4.83%, training loss = 4.128086781570677, training time taken = 93.12 seconds\n",
      "End of epoch 4: validation accuracy = 6.67%, validation loss = 8.902696919891069, validation time taken = 24.11 seconds\n",
      "End of epoch 4: validation accuracy = 6.67%, validation loss = 8.902696919891069, validation time taken = 24.11 seconds\n",
      "End of epoch 5: training accuracy = 4.50%, training loss = 4.119573230343747, training time taken = 95.02 seconds\n",
      "End of epoch 5: training accuracy = 4.50%, training loss = 4.119573230343747, training time taken = 95.02 seconds\n",
      "End of epoch 5: validation accuracy = 6.73%, validation loss = 5.319780817571676, validation time taken = 24.76 seconds\n",
      "End of epoch 5: validation accuracy = 6.73%, validation loss = 5.319780817571676, validation time taken = 24.76 seconds\n",
      "End of epoch 6: training accuracy = 5.11%, training loss = 4.117267973161157, training time taken = 94.00 seconds\n",
      "End of epoch 6: training accuracy = 5.11%, training loss = 4.117267973161157, training time taken = 94.00 seconds\n",
      "End of epoch 6: validation accuracy = 6.81%, validation loss = 4.780032715707455, validation time taken = 24.85 seconds\n",
      "End of epoch 6: validation accuracy = 6.81%, validation loss = 4.780032715707455, validation time taken = 24.85 seconds\n",
      "End of epoch 7: training accuracy = 5.42%, training loss = 4.106764681421953, training time taken = 93.55 seconds\n",
      "End of epoch 7: training accuracy = 5.42%, training loss = 4.106764681421953, training time taken = 93.55 seconds\n",
      "End of epoch 7: validation accuracy = 6.59%, validation loss = 5.390676933639455, validation time taken = 24.50 seconds\n",
      "End of epoch 7: validation accuracy = 6.59%, validation loss = 5.390676933639455, validation time taken = 24.50 seconds\n",
      "End of epoch 8: training accuracy = 5.56%, training loss = 4.1029614268699826, training time taken = 92.80 seconds\n",
      "End of epoch 8: training accuracy = 5.56%, training loss = 4.1029614268699826, training time taken = 92.80 seconds\n",
      "End of epoch 8: validation accuracy = 6.86%, validation loss = 4.57493860991496, validation time taken = 24.22 seconds\n",
      "End of epoch 8: validation accuracy = 6.86%, validation loss = 4.57493860991496, validation time taken = 24.22 seconds\n",
      "End of epoch 9: training accuracy = 5.87%, training loss = 4.100676122428365, training time taken = 93.24 seconds\n",
      "End of epoch 9: training accuracy = 5.87%, training loss = 4.100676122428365, training time taken = 93.24 seconds\n",
      "End of epoch 9: validation accuracy = 6.59%, validation loss = 6.238207285134298, validation time taken = 24.59 seconds\n",
      "End of epoch 9: validation accuracy = 6.59%, validation loss = 6.238207285134298, validation time taken = 24.59 seconds\n",
      "End of epoch 10: training accuracy = 5.73%, training loss = 4.085473635982226, training time taken = 95.32 seconds\n",
      "End of epoch 10: training accuracy = 5.73%, training loss = 4.085473635982226, training time taken = 95.32 seconds\n",
      "End of epoch 10: validation accuracy = 6.61%, validation loss = 4.882263896600255, validation time taken = 25.17 seconds\n",
      "End of epoch 10: validation accuracy = 6.61%, validation loss = 4.882263896600255, validation time taken = 25.17 seconds\n",
      "End of epoch 11: training accuracy = 4.90%, training loss = 4.09355199302552, training time taken = 94.25 seconds\n",
      "End of epoch 11: training accuracy = 4.90%, training loss = 4.09355199302552, training time taken = 94.25 seconds\n",
      "End of epoch 11: validation accuracy = 6.61%, validation loss = 4.232236844188762, validation time taken = 24.73 seconds\n",
      "End of epoch 11: validation accuracy = 6.61%, validation loss = 4.232236844188762, validation time taken = 24.73 seconds\n",
      "End of epoch 12: training accuracy = 5.82%, training loss = 4.085872535071621, training time taken = 94.33 seconds\n",
      "End of epoch 12: training accuracy = 5.82%, training loss = 4.085872535071621, training time taken = 94.33 seconds\n",
      "End of epoch 12: validation accuracy = 6.71%, validation loss = 4.333503980681582, validation time taken = 24.39 seconds\n",
      "End of epoch 12: validation accuracy = 6.71%, validation loss = 4.333503980681582, validation time taken = 24.39 seconds\n",
      "End of epoch 13: training accuracy = 5.44%, training loss = 4.069583371540025, training time taken = 93.44 seconds\n",
      "End of epoch 13: training accuracy = 5.44%, training loss = 4.069583371540025, training time taken = 93.44 seconds\n",
      "End of epoch 13: validation accuracy = 6.81%, validation loss = 5.753713345752572, validation time taken = 24.44 seconds\n",
      "End of epoch 13: validation accuracy = 6.81%, validation loss = 5.753713345752572, validation time taken = 24.44 seconds\n",
      "End of epoch 14: training accuracy = 6.20%, training loss = 4.083178771024494, training time taken = 93.20 seconds\n",
      "End of epoch 14: training accuracy = 6.20%, training loss = 4.083178771024494, training time taken = 93.20 seconds\n",
      "End of epoch 14: validation accuracy = 5.43%, validation loss = 4.291273349860929, validation time taken = 24.46 seconds\n",
      "End of epoch 14: validation accuracy = 5.43%, validation loss = 4.291273349860929, validation time taken = 24.46 seconds\n",
      "End of epoch 15: training accuracy = 6.38%, training loss = 4.084030664380575, training time taken = 93.29 seconds\n",
      "End of epoch 15: training accuracy = 6.38%, training loss = 4.084030664380575, training time taken = 93.29 seconds\n",
      "End of epoch 15: validation accuracy = 6.86%, validation loss = 4.222816474032852, validation time taken = 24.11 seconds\n",
      "End of epoch 15: validation accuracy = 6.86%, validation loss = 4.222816474032852, validation time taken = 24.11 seconds\n",
      "End of epoch 16: training accuracy = 6.23%, training loss = 4.073363221449659, training time taken = 93.76 seconds\n",
      "End of epoch 16: training accuracy = 6.23%, training loss = 4.073363221449659, training time taken = 93.76 seconds\n"
     ]
    },
    {
     "ename": "KeyboardInterrupt",
     "evalue": "",
     "output_type": "error",
     "traceback": [
      "\u001b[1;31m---------------------------------------------------------------------------\u001b[0m",
      "\u001b[1;31mKeyboardInterrupt\u001b[0m                         Traceback (most recent call last)",
      "Cell \u001b[1;32mIn[11], line 1\u001b[0m\n\u001b[1;32m----> 1\u001b[0m model_training\u001b[38;5;241m.\u001b[39mtraining(\n\u001b[0;32m      2\u001b[0m     model\u001b[38;5;241m=\u001b[39mresnet_model, \n\u001b[0;32m      3\u001b[0m     optimizer\u001b[38;5;241m=\u001b[39moptimizer, \n\u001b[0;32m      4\u001b[0m     loss_fn\u001b[38;5;241m=\u001b[39mloss, \n\u001b[0;32m      5\u001b[0m     train_dataloader\u001b[38;5;241m=\u001b[39mtrain_dataloader, \n\u001b[0;32m      6\u001b[0m     val_dataloader\u001b[38;5;241m=\u001b[39mval_dataloader, \n\u001b[0;32m      7\u001b[0m     model_path\u001b[38;5;241m=\u001b[39m\u001b[38;5;124m\"\u001b[39m\u001b[38;5;124mmodels/resnet34\u001b[39m\u001b[38;5;124m\"\u001b[39m, \n\u001b[0;32m      8\u001b[0m     start_epoch\u001b[38;5;241m=\u001b[39m\u001b[38;5;241m0\u001b[39m,\n\u001b[0;32m      9\u001b[0m     early_stop_thresh\u001b[38;5;241m=\u001b[39m\u001b[38;5;241m10\u001b[39m,\n\u001b[0;32m     10\u001b[0m )\n",
      "File \u001b[1;32m~\\AnacondaProjects\\insects_classification\\model_definition_and_training\\resnet34\\../../model_training_utils\\model_training.py:95\u001b[0m, in \u001b[0;36mtraining\u001b[1;34m(model, optimizer, loss_fn, train_dataloader, val_dataloader, model_path, epochs, early_stop_thresh, lr_decay, device, start_epoch)\u001b[0m\n\u001b[0;32m     92\u001b[0m     loss \u001b[38;5;241m=\u001b[39m loss_fn(y_pred, y_batch)\n\u001b[0;32m     94\u001b[0m     val_batch_losses\u001b[38;5;241m.\u001b[39mappend(loss\u001b[38;5;241m.\u001b[39mitem())\n\u001b[1;32m---> 95\u001b[0m     val_labels\u001b[38;5;241m.\u001b[39mappend(y_batch\u001b[38;5;241m.\u001b[39mdetach()\u001b[38;5;241m.\u001b[39mcpu()\u001b[38;5;241m.\u001b[39mnumpy())\n\u001b[0;32m     96\u001b[0m     val_predictions\u001b[38;5;241m.\u001b[39mappend(y_pred\u001b[38;5;241m.\u001b[39mdetach()\u001b[38;5;241m.\u001b[39mcpu()\u001b[38;5;241m.\u001b[39mnumpy()\u001b[38;5;241m.\u001b[39margmax(axis\u001b[38;5;241m=\u001b[39m\u001b[38;5;241m1\u001b[39m))  \n\u001b[0;32m     98\u001b[0m val_end_time \u001b[38;5;241m=\u001b[39m time\u001b[38;5;241m.\u001b[39mtime()\n",
      "\u001b[1;31mKeyboardInterrupt\u001b[0m: "
     ]
    },
    {
     "ename": "KeyboardInterrupt",
     "evalue": "",
     "output_type": "error",
     "traceback": [
      "\u001b[1;31m---------------------------------------------------------------------------\u001b[0m",
      "\u001b[1;31mKeyboardInterrupt\u001b[0m                         Traceback (most recent call last)",
      "Cell \u001b[1;32mIn[11], line 1\u001b[0m\n\u001b[1;32m----> 1\u001b[0m model_training\u001b[38;5;241m.\u001b[39mtraining(\n\u001b[0;32m      2\u001b[0m     model\u001b[38;5;241m=\u001b[39mresnet_model, \n\u001b[0;32m      3\u001b[0m     optimizer\u001b[38;5;241m=\u001b[39moptimizer, \n\u001b[0;32m      4\u001b[0m     loss_fn\u001b[38;5;241m=\u001b[39mloss, \n\u001b[0;32m      5\u001b[0m     train_dataloader\u001b[38;5;241m=\u001b[39mtrain_dataloader, \n\u001b[0;32m      6\u001b[0m     val_dataloader\u001b[38;5;241m=\u001b[39mval_dataloader, \n\u001b[0;32m      7\u001b[0m     model_path\u001b[38;5;241m=\u001b[39m\u001b[38;5;124m\"\u001b[39m\u001b[38;5;124mmodels/resnet34\u001b[39m\u001b[38;5;124m\"\u001b[39m, \n\u001b[0;32m      8\u001b[0m     start_epoch\u001b[38;5;241m=\u001b[39m\u001b[38;5;241m0\u001b[39m,\n\u001b[0;32m      9\u001b[0m     early_stop_thresh\u001b[38;5;241m=\u001b[39m\u001b[38;5;241m10\u001b[39m,\n\u001b[0;32m     10\u001b[0m )\n",
      "File \u001b[1;32m~\\AnacondaProjects\\insects_classification\\model_definition_and_training\\resnet34\\../../model_training_utils\\model_training.py:95\u001b[0m, in \u001b[0;36mtraining\u001b[1;34m(model, optimizer, loss_fn, train_dataloader, val_dataloader, model_path, epochs, early_stop_thresh, lr_decay, device, start_epoch)\u001b[0m\n\u001b[0;32m     92\u001b[0m     loss \u001b[38;5;241m=\u001b[39m loss_fn(y_pred, y_batch)\n\u001b[0;32m     94\u001b[0m     val_batch_losses\u001b[38;5;241m.\u001b[39mappend(loss\u001b[38;5;241m.\u001b[39mitem())\n\u001b[1;32m---> 95\u001b[0m     val_labels\u001b[38;5;241m.\u001b[39mappend(y_batch\u001b[38;5;241m.\u001b[39mdetach()\u001b[38;5;241m.\u001b[39mcpu()\u001b[38;5;241m.\u001b[39mnumpy())\n\u001b[0;32m     96\u001b[0m     val_predictions\u001b[38;5;241m.\u001b[39mappend(y_pred\u001b[38;5;241m.\u001b[39mdetach()\u001b[38;5;241m.\u001b[39mcpu()\u001b[38;5;241m.\u001b[39mnumpy()\u001b[38;5;241m.\u001b[39margmax(axis\u001b[38;5;241m=\u001b[39m\u001b[38;5;241m1\u001b[39m))  \n\u001b[0;32m     98\u001b[0m val_end_time \u001b[38;5;241m=\u001b[39m time\u001b[38;5;241m.\u001b[39mtime()\n",
      "\u001b[1;31mKeyboardInterrupt\u001b[0m: "
     ]
    }
   ],
   "source": [
    "model_training.training(\n",
    "    model=resnet_model, \n",
    "    optimizer=optimizer, \n",
    "    loss_fn=loss, \n",
    "    train_dataloader=train_dataloader, \n",
    "    val_dataloader=val_dataloader, \n",
    "    model_path=\"models/resnet34\", \n",
    "    start_epoch=0,\n",
    "    early_stop_thresh=10,\n",
    ")"
   ]
  },
  {
   "cell_type": "code",
   "execution_count": null,
   "id": "55cb93ba-97c7-4582-9c7f-458568859270",
   "metadata": {},
   "outputs": [],
   "source": []
  }
 ],
 "metadata": {
  "availableInstances": [
   {
    "_defaultOrder": 0,
    "_isFastLaunch": true,
    "category": "General purpose",
    "gpuNum": 0,
    "hideHardwareSpecs": false,
    "memoryGiB": 4,
    "name": "ml.t3.medium",
    "vcpuNum": 2
   },
   {
    "_defaultOrder": 1,
    "_isFastLaunch": false,
    "category": "General purpose",
    "gpuNum": 0,
    "hideHardwareSpecs": false,
    "memoryGiB": 8,
    "name": "ml.t3.large",
    "vcpuNum": 2
   },
   {
    "_defaultOrder": 2,
    "_isFastLaunch": false,
    "category": "General purpose",
    "gpuNum": 0,
    "hideHardwareSpecs": false,
    "memoryGiB": 16,
    "name": "ml.t3.xlarge",
    "vcpuNum": 4
   },
   {
    "_defaultOrder": 3,
    "_isFastLaunch": false,
    "category": "General purpose",
    "gpuNum": 0,
    "hideHardwareSpecs": false,
    "memoryGiB": 32,
    "name": "ml.t3.2xlarge",
    "vcpuNum": 8
   },
   {
    "_defaultOrder": 4,
    "_isFastLaunch": true,
    "category": "General purpose",
    "gpuNum": 0,
    "hideHardwareSpecs": false,
    "memoryGiB": 8,
    "name": "ml.m5.large",
    "vcpuNum": 2
   },
   {
    "_defaultOrder": 5,
    "_isFastLaunch": false,
    "category": "General purpose",
    "gpuNum": 0,
    "hideHardwareSpecs": false,
    "memoryGiB": 16,
    "name": "ml.m5.xlarge",
    "vcpuNum": 4
   },
   {
    "_defaultOrder": 6,
    "_isFastLaunch": false,
    "category": "General purpose",
    "gpuNum": 0,
    "hideHardwareSpecs": false,
    "memoryGiB": 32,
    "name": "ml.m5.2xlarge",
    "vcpuNum": 8
   },
   {
    "_defaultOrder": 7,
    "_isFastLaunch": false,
    "category": "General purpose",
    "gpuNum": 0,
    "hideHardwareSpecs": false,
    "memoryGiB": 64,
    "name": "ml.m5.4xlarge",
    "vcpuNum": 16
   },
   {
    "_defaultOrder": 8,
    "_isFastLaunch": false,
    "category": "General purpose",
    "gpuNum": 0,
    "hideHardwareSpecs": false,
    "memoryGiB": 128,
    "name": "ml.m5.8xlarge",
    "vcpuNum": 32
   },
   {
    "_defaultOrder": 9,
    "_isFastLaunch": false,
    "category": "General purpose",
    "gpuNum": 0,
    "hideHardwareSpecs": false,
    "memoryGiB": 192,
    "name": "ml.m5.12xlarge",
    "vcpuNum": 48
   },
   {
    "_defaultOrder": 10,
    "_isFastLaunch": false,
    "category": "General purpose",
    "gpuNum": 0,
    "hideHardwareSpecs": false,
    "memoryGiB": 256,
    "name": "ml.m5.16xlarge",
    "vcpuNum": 64
   },
   {
    "_defaultOrder": 11,
    "_isFastLaunch": false,
    "category": "General purpose",
    "gpuNum": 0,
    "hideHardwareSpecs": false,
    "memoryGiB": 384,
    "name": "ml.m5.24xlarge",
    "vcpuNum": 96
   },
   {
    "_defaultOrder": 12,
    "_isFastLaunch": false,
    "category": "General purpose",
    "gpuNum": 0,
    "hideHardwareSpecs": false,
    "memoryGiB": 8,
    "name": "ml.m5d.large",
    "vcpuNum": 2
   },
   {
    "_defaultOrder": 13,
    "_isFastLaunch": false,
    "category": "General purpose",
    "gpuNum": 0,
    "hideHardwareSpecs": false,
    "memoryGiB": 16,
    "name": "ml.m5d.xlarge",
    "vcpuNum": 4
   },
   {
    "_defaultOrder": 14,
    "_isFastLaunch": false,
    "category": "General purpose",
    "gpuNum": 0,
    "hideHardwareSpecs": false,
    "memoryGiB": 32,
    "name": "ml.m5d.2xlarge",
    "vcpuNum": 8
   },
   {
    "_defaultOrder": 15,
    "_isFastLaunch": false,
    "category": "General purpose",
    "gpuNum": 0,
    "hideHardwareSpecs": false,
    "memoryGiB": 64,
    "name": "ml.m5d.4xlarge",
    "vcpuNum": 16
   },
   {
    "_defaultOrder": 16,
    "_isFastLaunch": false,
    "category": "General purpose",
    "gpuNum": 0,
    "hideHardwareSpecs": false,
    "memoryGiB": 128,
    "name": "ml.m5d.8xlarge",
    "vcpuNum": 32
   },
   {
    "_defaultOrder": 17,
    "_isFastLaunch": false,
    "category": "General purpose",
    "gpuNum": 0,
    "hideHardwareSpecs": false,
    "memoryGiB": 192,
    "name": "ml.m5d.12xlarge",
    "vcpuNum": 48
   },
   {
    "_defaultOrder": 18,
    "_isFastLaunch": false,
    "category": "General purpose",
    "gpuNum": 0,
    "hideHardwareSpecs": false,
    "memoryGiB": 256,
    "name": "ml.m5d.16xlarge",
    "vcpuNum": 64
   },
   {
    "_defaultOrder": 19,
    "_isFastLaunch": false,
    "category": "General purpose",
    "gpuNum": 0,
    "hideHardwareSpecs": false,
    "memoryGiB": 384,
    "name": "ml.m5d.24xlarge",
    "vcpuNum": 96
   },
   {
    "_defaultOrder": 20,
    "_isFastLaunch": false,
    "category": "General purpose",
    "gpuNum": 0,
    "hideHardwareSpecs": true,
    "memoryGiB": 0,
    "name": "ml.geospatial.interactive",
    "supportedImageNames": [
     "sagemaker-geospatial-v1-0"
    ],
    "vcpuNum": 0
   },
   {
    "_defaultOrder": 21,
    "_isFastLaunch": true,
    "category": "Compute optimized",
    "gpuNum": 0,
    "hideHardwareSpecs": false,
    "memoryGiB": 4,
    "name": "ml.c5.large",
    "vcpuNum": 2
   },
   {
    "_defaultOrder": 22,
    "_isFastLaunch": false,
    "category": "Compute optimized",
    "gpuNum": 0,
    "hideHardwareSpecs": false,
    "memoryGiB": 8,
    "name": "ml.c5.xlarge",
    "vcpuNum": 4
   },
   {
    "_defaultOrder": 23,
    "_isFastLaunch": false,
    "category": "Compute optimized",
    "gpuNum": 0,
    "hideHardwareSpecs": false,
    "memoryGiB": 16,
    "name": "ml.c5.2xlarge",
    "vcpuNum": 8
   },
   {
    "_defaultOrder": 24,
    "_isFastLaunch": false,
    "category": "Compute optimized",
    "gpuNum": 0,
    "hideHardwareSpecs": false,
    "memoryGiB": 32,
    "name": "ml.c5.4xlarge",
    "vcpuNum": 16
   },
   {
    "_defaultOrder": 25,
    "_isFastLaunch": false,
    "category": "Compute optimized",
    "gpuNum": 0,
    "hideHardwareSpecs": false,
    "memoryGiB": 72,
    "name": "ml.c5.9xlarge",
    "vcpuNum": 36
   },
   {
    "_defaultOrder": 26,
    "_isFastLaunch": false,
    "category": "Compute optimized",
    "gpuNum": 0,
    "hideHardwareSpecs": false,
    "memoryGiB": 96,
    "name": "ml.c5.12xlarge",
    "vcpuNum": 48
   },
   {
    "_defaultOrder": 27,
    "_isFastLaunch": false,
    "category": "Compute optimized",
    "gpuNum": 0,
    "hideHardwareSpecs": false,
    "memoryGiB": 144,
    "name": "ml.c5.18xlarge",
    "vcpuNum": 72
   },
   {
    "_defaultOrder": 28,
    "_isFastLaunch": false,
    "category": "Compute optimized",
    "gpuNum": 0,
    "hideHardwareSpecs": false,
    "memoryGiB": 192,
    "name": "ml.c5.24xlarge",
    "vcpuNum": 96
   },
   {
    "_defaultOrder": 29,
    "_isFastLaunch": true,
    "category": "Accelerated computing",
    "gpuNum": 1,
    "hideHardwareSpecs": false,
    "memoryGiB": 16,
    "name": "ml.g4dn.xlarge",
    "vcpuNum": 4
   },
   {
    "_defaultOrder": 30,
    "_isFastLaunch": false,
    "category": "Accelerated computing",
    "gpuNum": 1,
    "hideHardwareSpecs": false,
    "memoryGiB": 32,
    "name": "ml.g4dn.2xlarge",
    "vcpuNum": 8
   },
   {
    "_defaultOrder": 31,
    "_isFastLaunch": false,
    "category": "Accelerated computing",
    "gpuNum": 1,
    "hideHardwareSpecs": false,
    "memoryGiB": 64,
    "name": "ml.g4dn.4xlarge",
    "vcpuNum": 16
   },
   {
    "_defaultOrder": 32,
    "_isFastLaunch": false,
    "category": "Accelerated computing",
    "gpuNum": 1,
    "hideHardwareSpecs": false,
    "memoryGiB": 128,
    "name": "ml.g4dn.8xlarge",
    "vcpuNum": 32
   },
   {
    "_defaultOrder": 33,
    "_isFastLaunch": false,
    "category": "Accelerated computing",
    "gpuNum": 4,
    "hideHardwareSpecs": false,
    "memoryGiB": 192,
    "name": "ml.g4dn.12xlarge",
    "vcpuNum": 48
   },
   {
    "_defaultOrder": 34,
    "_isFastLaunch": false,
    "category": "Accelerated computing",
    "gpuNum": 1,
    "hideHardwareSpecs": false,
    "memoryGiB": 256,
    "name": "ml.g4dn.16xlarge",
    "vcpuNum": 64
   },
   {
    "_defaultOrder": 35,
    "_isFastLaunch": false,
    "category": "Accelerated computing",
    "gpuNum": 1,
    "hideHardwareSpecs": false,
    "memoryGiB": 61,
    "name": "ml.p3.2xlarge",
    "vcpuNum": 8
   },
   {
    "_defaultOrder": 36,
    "_isFastLaunch": false,
    "category": "Accelerated computing",
    "gpuNum": 4,
    "hideHardwareSpecs": false,
    "memoryGiB": 244,
    "name": "ml.p3.8xlarge",
    "vcpuNum": 32
   },
   {
    "_defaultOrder": 37,
    "_isFastLaunch": false,
    "category": "Accelerated computing",
    "gpuNum": 8,
    "hideHardwareSpecs": false,
    "memoryGiB": 488,
    "name": "ml.p3.16xlarge",
    "vcpuNum": 64
   },
   {
    "_defaultOrder": 38,
    "_isFastLaunch": false,
    "category": "Accelerated computing",
    "gpuNum": 8,
    "hideHardwareSpecs": false,
    "memoryGiB": 768,
    "name": "ml.p3dn.24xlarge",
    "vcpuNum": 96
   },
   {
    "_defaultOrder": 39,
    "_isFastLaunch": false,
    "category": "Memory Optimized",
    "gpuNum": 0,
    "hideHardwareSpecs": false,
    "memoryGiB": 16,
    "name": "ml.r5.large",
    "vcpuNum": 2
   },
   {
    "_defaultOrder": 40,
    "_isFastLaunch": false,
    "category": "Memory Optimized",
    "gpuNum": 0,
    "hideHardwareSpecs": false,
    "memoryGiB": 32,
    "name": "ml.r5.xlarge",
    "vcpuNum": 4
   },
   {
    "_defaultOrder": 41,
    "_isFastLaunch": false,
    "category": "Memory Optimized",
    "gpuNum": 0,
    "hideHardwareSpecs": false,
    "memoryGiB": 64,
    "name": "ml.r5.2xlarge",
    "vcpuNum": 8
   },
   {
    "_defaultOrder": 42,
    "_isFastLaunch": false,
    "category": "Memory Optimized",
    "gpuNum": 0,
    "hideHardwareSpecs": false,
    "memoryGiB": 128,
    "name": "ml.r5.4xlarge",
    "vcpuNum": 16
   },
   {
    "_defaultOrder": 43,
    "_isFastLaunch": false,
    "category": "Memory Optimized",
    "gpuNum": 0,
    "hideHardwareSpecs": false,
    "memoryGiB": 256,
    "name": "ml.r5.8xlarge",
    "vcpuNum": 32
   },
   {
    "_defaultOrder": 44,
    "_isFastLaunch": false,
    "category": "Memory Optimized",
    "gpuNum": 0,
    "hideHardwareSpecs": false,
    "memoryGiB": 384,
    "name": "ml.r5.12xlarge",
    "vcpuNum": 48
   },
   {
    "_defaultOrder": 45,
    "_isFastLaunch": false,
    "category": "Memory Optimized",
    "gpuNum": 0,
    "hideHardwareSpecs": false,
    "memoryGiB": 512,
    "name": "ml.r5.16xlarge",
    "vcpuNum": 64
   },
   {
    "_defaultOrder": 46,
    "_isFastLaunch": false,
    "category": "Memory Optimized",
    "gpuNum": 0,
    "hideHardwareSpecs": false,
    "memoryGiB": 768,
    "name": "ml.r5.24xlarge",
    "vcpuNum": 96
   },
   {
    "_defaultOrder": 47,
    "_isFastLaunch": false,
    "category": "Accelerated computing",
    "gpuNum": 1,
    "hideHardwareSpecs": false,
    "memoryGiB": 16,
    "name": "ml.g5.xlarge",
    "vcpuNum": 4
   },
   {
    "_defaultOrder": 48,
    "_isFastLaunch": false,
    "category": "Accelerated computing",
    "gpuNum": 1,
    "hideHardwareSpecs": false,
    "memoryGiB": 32,
    "name": "ml.g5.2xlarge",
    "vcpuNum": 8
   },
   {
    "_defaultOrder": 49,
    "_isFastLaunch": false,
    "category": "Accelerated computing",
    "gpuNum": 1,
    "hideHardwareSpecs": false,
    "memoryGiB": 64,
    "name": "ml.g5.4xlarge",
    "vcpuNum": 16
   },
   {
    "_defaultOrder": 50,
    "_isFastLaunch": false,
    "category": "Accelerated computing",
    "gpuNum": 1,
    "hideHardwareSpecs": false,
    "memoryGiB": 128,
    "name": "ml.g5.8xlarge",
    "vcpuNum": 32
   },
   {
    "_defaultOrder": 51,
    "_isFastLaunch": false,
    "category": "Accelerated computing",
    "gpuNum": 1,
    "hideHardwareSpecs": false,
    "memoryGiB": 256,
    "name": "ml.g5.16xlarge",
    "vcpuNum": 64
   },
   {
    "_defaultOrder": 52,
    "_isFastLaunch": false,
    "category": "Accelerated computing",
    "gpuNum": 4,
    "hideHardwareSpecs": false,
    "memoryGiB": 192,
    "name": "ml.g5.12xlarge",
    "vcpuNum": 48
   },
   {
    "_defaultOrder": 53,
    "_isFastLaunch": false,
    "category": "Accelerated computing",
    "gpuNum": 4,
    "hideHardwareSpecs": false,
    "memoryGiB": 384,
    "name": "ml.g5.24xlarge",
    "vcpuNum": 96
   },
   {
    "_defaultOrder": 54,
    "_isFastLaunch": false,
    "category": "Accelerated computing",
    "gpuNum": 8,
    "hideHardwareSpecs": false,
    "memoryGiB": 768,
    "name": "ml.g5.48xlarge",
    "vcpuNum": 192
   },
   {
    "_defaultOrder": 55,
    "_isFastLaunch": false,
    "category": "Accelerated computing",
    "gpuNum": 8,
    "hideHardwareSpecs": false,
    "memoryGiB": 1152,
    "name": "ml.p4d.24xlarge",
    "vcpuNum": 96
   },
   {
    "_defaultOrder": 56,
    "_isFastLaunch": false,
    "category": "Accelerated computing",
    "gpuNum": 8,
    "hideHardwareSpecs": false,
    "memoryGiB": 1152,
    "name": "ml.p4de.24xlarge",
    "vcpuNum": 96
   }
  ],
  "instance_type": "ml.g4dn.xlarge",
  "kernelspec": {
   "display_name": "Python 3 (ipykernel)",
   "language": "python",
   "name": "python3"
  },
  "language_info": {
   "codemirror_mode": {
    "name": "ipython",
    "version": 3
   },
   "file_extension": ".py",
   "mimetype": "text/x-python",
   "name": "python",
   "nbconvert_exporter": "python",
   "pygments_lexer": "ipython3",
   "version": "3.11.3"
  },
  "lcc_arn": "arn:aws:sagemaker:us-east-1:060944483102:studio-lifecycle-config/clean-trash"
 },
 "nbformat": 4,
 "nbformat_minor": 5
}
