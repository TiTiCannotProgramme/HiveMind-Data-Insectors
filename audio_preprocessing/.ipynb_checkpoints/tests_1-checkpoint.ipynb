{
 "cells": [
  {
   "cell_type": "code",
   "execution_count": 1,
   "id": "3e1051aa",
   "metadata": {},
   "outputs": [
    {
     "ename": "ModuleNotFoundError",
     "evalue": "No module named 'matplotlib.plot'",
     "output_type": "error",
     "traceback": [
      "\u001b[1;31m---------------------------------------------------------------------------\u001b[0m",
      "\u001b[1;31mModuleNotFoundError\u001b[0m                       Traceback (most recent call last)",
      "Cell \u001b[1;32mIn[1], line 8\u001b[0m\n\u001b[0;32m      4\u001b[0m \u001b[38;5;28;01mimport\u001b[39;00m \u001b[38;5;21;01msys\u001b[39;00m\n\u001b[0;32m      6\u001b[0m \u001b[38;5;28;01mimport\u001b[39;00m \u001b[38;5;21;01mlibrosa\u001b[39;00m\n\u001b[1;32m----> 8\u001b[0m \u001b[38;5;28;01mimport\u001b[39;00m \u001b[38;5;21;01mmatplotlib\u001b[39;00m\u001b[38;5;21;01m.\u001b[39;00m\u001b[38;5;21;01mplot\u001b[39;00m \u001b[38;5;28;01mas\u001b[39;00m \u001b[38;5;21;01mplt\u001b[39;00m\n\u001b[0;32m     10\u001b[0m sys\u001b[38;5;241m.\u001b[39mpath\u001b[38;5;241m.\u001b[39mappend(\u001b[38;5;124m'\u001b[39m\u001b[38;5;124m../audio_preprocessing\u001b[39m\u001b[38;5;124m'\u001b[39m)\n\u001b[0;32m     11\u001b[0m sys\u001b[38;5;241m.\u001b[39mpath\u001b[38;5;241m.\u001b[39mappend(\u001b[38;5;124m'\u001b[39m\u001b[38;5;124m../src\u001b[39m\u001b[38;5;124m'\u001b[39m)\n",
      "\u001b[1;31mModuleNotFoundError\u001b[0m: No module named 'matplotlib.plot'"
     ]
    }
   ],
   "source": [
    "import pandas as pd\n",
    "import torch\n",
    "import os\n",
    "import sys\n",
    "\n",
    "import librosa\n",
    "\n",
    "import matplotlib.pyplot as plt\n",
    "\n",
    "sys.path.append('../audio_preprocessing')\n",
    "sys.path.append('../src')\n",
    "sys.path.append('../model_training_utils')\n",
    "\n",
    "import preprocessing_func\n",
    "from generator_to_dataset import NormalisedDataSet\n",
    "from gdsc_utils import PROJECT_DIR\n",
    "import model_training\n",
    "\n",
    "os.chdir(PROJECT_DIR)"
   ]
  },
  {
   "cell_type": "code",
   "execution_count": null,
   "id": "f443e969",
   "metadata": {},
   "outputs": [],
   "source": [
    "df = pd.read_csv('data/metadata.csv')\n",
    "df_train = df[df[\"subset\"] == \"train\"]\n",
    "df_val = df[df[\"subset\"] == \"validation\"]\n",
    "df_train.head()"
   ]
  },
  {
   "cell_type": "code",
   "execution_count": null,
   "id": "f3a5666b",
   "metadata": {},
   "outputs": [],
   "source": [
    "paths, labels = list(df_train[\"path\"].values), list(df_train[\"label\"])"
   ]
  },
  {
   "cell_type": "code",
   "execution_count": null,
   "id": "4954ca31",
   "metadata": {},
   "outputs": [],
   "source": [
    "generator = preprocessing_func.non_normalised_data_generator_test(paths, labels)"
   ]
  },
  {
   "cell_type": "code",
   "execution_count": null,
   "id": "e1d3b301",
   "metadata": {},
   "outputs": [],
   "source": [
    "for image, _ in generator:\n",
    "    print(image)\n",
    "    print(image.shape)\n",
    "    break"
   ]
  },
  {
   "cell_type": "code",
   "execution_count": null,
   "id": "7b228bde",
   "metadata": {},
   "outputs": [],
   "source": [
    "image.shape[1], image.shape[2]"
   ]
  },
  {
   "cell_type": "code",
   "execution_count": null,
   "id": "15f312f9",
   "metadata": {},
   "outputs": [],
   "source": [
    "# for image, _ in generator:\n",
    "#     if image.shape[1] != 128 or image.shape[2] != 376:\n",
    "#         print(image.shape)"
   ]
  },
  {
   "cell_type": "code",
   "execution_count": null,
   "id": "4b548a20",
   "metadata": {},
   "outputs": [],
   "source": [
    "def test_split(paths):\n",
    "    for path in paths:\n",
    "        wav = preprocessing_func.change_wav_sample_rate(path)[0]\n",
    "        chunks = preprocessing_func.split_wav_to_n_seconds_chunks(wav)\n",
    "        print(chunks[0].shape, chunks[-2].shape, chunks[-1].shape)\n",
    "        break"
   ]
  },
  {
   "cell_type": "code",
   "execution_count": null,
   "id": "fb6aabe8",
   "metadata": {},
   "outputs": [],
   "source": [
    "image[0].shape"
   ]
  },
  {
   "cell_type": "code",
   "execution_count": null,
   "id": "5978163e",
   "metadata": {},
   "outputs": [],
   "source": [
    "plt.imshow(image[0].numpy(), cmap='hot')"
   ]
  },
  {
   "cell_type": "code",
   "execution_count": null,
   "id": "feeb219b",
   "metadata": {},
   "outputs": [],
   "source": []
  }
 ],
 "metadata": {
  "kernelspec": {
   "display_name": "Python 3 (ipykernel)",
   "language": "python",
   "name": "python3"
  },
  "language_info": {
   "codemirror_mode": {
    "name": "ipython",
    "version": 3
   },
   "file_extension": ".py",
   "mimetype": "text/x-python",
   "name": "python",
   "nbconvert_exporter": "python",
   "pygments_lexer": "ipython3",
   "version": "3.11.3"
  }
 },
 "nbformat": 4,
 "nbformat_minor": 5
}
