{
 "cells": [
  {
   "cell_type": "code",
   "execution_count": 1,
   "id": "1ef5b4cc",
   "metadata": {},
   "outputs": [],
   "source": [
    "import pandas as pd\n",
    "import torch\n",
    "import os\n",
    "import sys\n",
    "import librosa\n",
    "import numpy as np\n",
    "import matplotlib.pyplot as plt\n",
    "from scipy import signal\n",
    "\n",
    "sys.path.append('../audio_preprocessing')\n",
    "sys.path.append('../src')\n",
    "sys.path.append('../model_training_utils')\n",
    "\n",
    "import preprocessing_func\n",
    "from generator_to_dataset import NormalisedDataSet, NonNormalisedTestModelsDataSet\n",
    "from gdsc_utils import PROJECT_DIR\n",
    "import model_training\n",
    "\n",
    "os.chdir(PROJECT_DIR)"
   ]
  },
  {
   "cell_type": "code",
   "execution_count": 2,
   "id": "8ad03b6f",
   "metadata": {},
   "outputs": [],
   "source": [
    "def plot_spectrogram(spec, title=None, ylabel='freq_bin', aspect='equal', xmax=None):\n",
    "    fig, axs = plt.subplots(1, 1)\n",
    "    axs.set_title(title or 'Spectrogram (db)')\n",
    "    axs.set_ylabel(ylabel)\n",
    "    axs.set_xlabel('frame')\n",
    "    im = axs.imshow(spec, origin='lower', aspect=aspect)\n",
    "    if xmax:\n",
    "        axs.set_xlim((0, xmax))\n",
    "    fig.colorbar(im, ax=axs)\n",
    "    plt.show(block=False)"
   ]
  },
  {
   "cell_type": "code",
   "execution_count": 3,
   "id": "f0dab0c5",
   "metadata": {},
   "outputs": [],
   "source": [
    "def load_wav(path):\n",
    "    wav, sr = librosa.load(path, sr=44100)\n",
    "    return wav"
   ]
  },
  {
   "cell_type": "code",
   "execution_count": 4,
   "id": "c1e208ae",
   "metadata": {},
   "outputs": [
    {
     "data": {
      "text/html": [
       "<div>\n",
       "<style scoped>\n",
       "    .dataframe tbody tr th:only-of-type {\n",
       "        vertical-align: middle;\n",
       "    }\n",
       "\n",
       "    .dataframe tbody tr th {\n",
       "        vertical-align: top;\n",
       "    }\n",
       "\n",
       "    .dataframe thead th {\n",
       "        text-align: right;\n",
       "    }\n",
       "</style>\n",
       "<table border=\"1\" class=\"dataframe\">\n",
       "  <thead>\n",
       "    <tr style=\"text-align: right;\">\n",
       "      <th></th>\n",
       "      <th>file_name</th>\n",
       "      <th>unique_file</th>\n",
       "      <th>path</th>\n",
       "      <th>species</th>\n",
       "      <th>label</th>\n",
       "      <th>subset</th>\n",
       "      <th>sample_rate</th>\n",
       "      <th>num_frames</th>\n",
       "      <th>length</th>\n",
       "    </tr>\n",
       "  </thead>\n",
       "  <tbody>\n",
       "    <tr>\n",
       "      <th>0</th>\n",
       "      <td>Roeselianaroeselii_XC751814-dat028-019_edit1.wav</td>\n",
       "      <td>Roeselianaroeselii_XC751814-dat028-019</td>\n",
       "      <td>data/train/Roeselianaroeselii_XC751814-dat028-...</td>\n",
       "      <td>Roeselianaroeselii</td>\n",
       "      <td>56</td>\n",
       "      <td>train</td>\n",
       "      <td>44100</td>\n",
       "      <td>4586400</td>\n",
       "      <td>104.000000</td>\n",
       "    </tr>\n",
       "    <tr>\n",
       "      <th>1</th>\n",
       "      <td>Roeselianaroeselii_XC752367-dat006-010.wav</td>\n",
       "      <td>Roeselianaroeselii_XC752367-dat006-010</td>\n",
       "      <td>data/train/Roeselianaroeselii_XC752367-dat006-...</td>\n",
       "      <td>Roeselianaroeselii</td>\n",
       "      <td>56</td>\n",
       "      <td>train</td>\n",
       "      <td>44100</td>\n",
       "      <td>337571</td>\n",
       "      <td>7.654671</td>\n",
       "    </tr>\n",
       "    <tr>\n",
       "      <th>2</th>\n",
       "      <td>Yoyettacelis_GBIF2465208563_IN36000894_50988.wav</td>\n",
       "      <td>Yoyettacelis_GBIF2465208563_IN36000894_50988</td>\n",
       "      <td>data/train/Yoyettacelis_GBIF2465208563_IN36000...</td>\n",
       "      <td>Yoyettacelis</td>\n",
       "      <td>64</td>\n",
       "      <td>train</td>\n",
       "      <td>44100</td>\n",
       "      <td>220500</td>\n",
       "      <td>5.000000</td>\n",
       "    </tr>\n",
       "    <tr>\n",
       "      <th>3</th>\n",
       "      <td>Gomphocerippusrufus_XC752285-dat001-045.wav</td>\n",
       "      <td>Gomphocerippusrufus_XC752285-dat001-045</td>\n",
       "      <td>data/train/Gomphocerippusrufus_XC752285-dat001...</td>\n",
       "      <td>Gomphocerippusrufus</td>\n",
       "      <td>26</td>\n",
       "      <td>train</td>\n",
       "      <td>44100</td>\n",
       "      <td>693715</td>\n",
       "      <td>15.730499</td>\n",
       "    </tr>\n",
       "    <tr>\n",
       "      <th>5</th>\n",
       "      <td>Phaneropteranana_XC755717-221013-Phaneroptera-...</td>\n",
       "      <td>Phaneropteranana_XC755717-221013-Phaneroptera-...</td>\n",
       "      <td>data/train/Phaneropteranana_XC755717-221013-Ph...</td>\n",
       "      <td>Phaneropteranana</td>\n",
       "      <td>41</td>\n",
       "      <td>train</td>\n",
       "      <td>44100</td>\n",
       "      <td>88200</td>\n",
       "      <td>2.000000</td>\n",
       "    </tr>\n",
       "  </tbody>\n",
       "</table>\n",
       "</div>"
      ],
      "text/plain": [
       "                                           file_name  \\\n",
       "0   Roeselianaroeselii_XC751814-dat028-019_edit1.wav   \n",
       "1         Roeselianaroeselii_XC752367-dat006-010.wav   \n",
       "2   Yoyettacelis_GBIF2465208563_IN36000894_50988.wav   \n",
       "3        Gomphocerippusrufus_XC752285-dat001-045.wav   \n",
       "5  Phaneropteranana_XC755717-221013-Phaneroptera-...   \n",
       "\n",
       "                                         unique_file  \\\n",
       "0             Roeselianaroeselii_XC751814-dat028-019   \n",
       "1             Roeselianaroeselii_XC752367-dat006-010   \n",
       "2       Yoyettacelis_GBIF2465208563_IN36000894_50988   \n",
       "3            Gomphocerippusrufus_XC752285-dat001-045   \n",
       "5  Phaneropteranana_XC755717-221013-Phaneroptera-...   \n",
       "\n",
       "                                                path              species  \\\n",
       "0  data/train/Roeselianaroeselii_XC751814-dat028-...   Roeselianaroeselii   \n",
       "1  data/train/Roeselianaroeselii_XC752367-dat006-...   Roeselianaroeselii   \n",
       "2  data/train/Yoyettacelis_GBIF2465208563_IN36000...         Yoyettacelis   \n",
       "3  data/train/Gomphocerippusrufus_XC752285-dat001...  Gomphocerippusrufus   \n",
       "5  data/train/Phaneropteranana_XC755717-221013-Ph...     Phaneropteranana   \n",
       "\n",
       "   label subset  sample_rate  num_frames      length  \n",
       "0     56  train        44100     4586400  104.000000  \n",
       "1     56  train        44100      337571    7.654671  \n",
       "2     64  train        44100      220500    5.000000  \n",
       "3     26  train        44100      693715   15.730499  \n",
       "5     41  train        44100       88200    2.000000  "
      ]
     },
     "execution_count": 4,
     "metadata": {},
     "output_type": "execute_result"
    }
   ],
   "source": [
    "df = pd.read_csv('data/metadata.csv')\n",
    "df_train = df[df[\"subset\"] == \"train\"]\n",
    "df_val = df[df[\"subset\"] == \"validation\"]\n",
    "df_train.head()"
   ]
  },
  {
   "cell_type": "code",
   "execution_count": 75,
   "id": "ceda1c5e",
   "metadata": {},
   "outputs": [
    {
     "name": "stdout",
     "output_type": "stream",
     "text": [
      "data/val/Leptophyespunctatissima_XC752570-dat141-007_edit2.wav\n"
     ]
    }
   ],
   "source": [
    "path = \"data/val/Leptophyespunctatissima_XC752570-dat141-007_edit2.wav\"\n",
    "print(path)"
   ]
  },
  {
   "cell_type": "code",
   "execution_count": 79,
   "id": "52fa7833",
   "metadata": {},
   "outputs": [
    {
     "name": "stdout",
     "output_type": "stream",
     "text": [
      "(66150,) 0.22927856 -0.11984253\n",
      "[37531]\n"
     ]
    },
    {
     "data": {
      "text/plain": [
       "[<matplotlib.lines.Line2D at 0x1f116826d10>]"
      ]
     },
     "execution_count": 79,
     "metadata": {},
     "output_type": "execute_result"
    },
    {
     "data": {
      "image/png": "[encoded data removed]",
      "text/plain": [
       "<Figure size 640x480 with 1 Axes>"
      ]
     },
     "metadata": {},
     "output_type": "display_data"
    }
   ],
   "source": [
    "wav = load_wav(path)\n",
    "print(wav.shape, wav.max(), wav.min())\n",
    "\n",
    "height = wav.max()/4\n",
    "peaks, _ = signal.find_peaks(wav[22050:166200], distance=66150, height=height)\n",
    "print(peaks+22050)\n",
    "\n",
    "plt.plot(peaks+22050, wav[:166200][peaks+22050], \"vg\")\n",
    "plt.plot(wav[:166200])"
   ]
  },
  {
   "cell_type": "code",
   "execution_count": 77,
   "id": "1235026c",
   "metadata": {},
   "outputs": [],
   "source": [
    "def normalise_wav(wav, normalise_to:float=0.5):\n",
    "    wav:float = wav - 0.5*(wav.max() + wav.min())\n",
    "    max_value: float = max(abs(wav.max()), abs(wav.min()))\n",
    "    return normalise_to*(wav/max_value)"
   ]
  },
  {
   "cell_type": "code",
   "execution_count": 78,
   "id": "f73fff58",
   "metadata": {},
   "outputs": [
    {
     "name": "stdout",
     "output_type": "stream",
     "text": [
      "[37531]\n"
     ]
    },
    {
     "data": {
      "text/plain": [
       "[<matplotlib.lines.Line2D at 0x1f1167f0b10>]"
      ]
     },
     "execution_count": 78,
     "metadata": {},
     "output_type": "execute_result"
    },
    {
     "data": {
      "image/png": "[encoded data removed]",
      "text/plain": [
       "<Figure size 640x480 with 1 Axes>"
      ]
     },
     "metadata": {},
     "output_type": "display_data"
    }
   ],
   "source": [
    "wav_normalised = normalise_wav(wav)\n",
    "\n",
    "height = wav_normalised.max()/4\n",
    "peaks, _ = signal.find_peaks(wav_normalised[22050:166200], distance=66150, height=height)\n",
    "print(peaks+22050)\n",
    "\n",
    "plt.plot(peaks+22050, wav_normalised[:166200][peaks+22050], \"vg\")\n",
    "plt.plot(wav_normalised[:166200])"
   ]
  },
  {
   "cell_type": "code",
   "execution_count": 70,
   "id": "fcb62b94",
   "metadata": {},
   "outputs": [
    {
     "data": {
      "text/plain": [
       "(67500,)"
      ]
     },
     "execution_count": 70,
     "metadata": {},
     "output_type": "execute_result"
    }
   ],
   "source": [
    "wav_normalised[39702-33750:39702+33750].shape"
   ]
  },
  {
   "cell_type": "code",
   "execution_count": null,
   "id": "d08b5ddd",
   "metadata": {},
   "outputs": [],
   "source": []
  },
  {
   "cell_type": "code",
   "execution_count": null,
   "id": "6d62c888",
   "metadata": {},
   "outputs": [],
   "source": []
  },
  {
   "cell_type": "code",
   "execution_count": null,
   "id": "5e80852b",
   "metadata": {},
   "outputs": [],
   "source": []
  },
  {
   "cell_type": "code",
   "execution_count": null,
   "id": "5508fa15",
   "metadata": {},
   "outputs": [],
   "source": []
  },
  {
   "cell_type": "code",
   "execution_count": null,
   "id": "274f103e",
   "metadata": {},
   "outputs": [],
   "source": [
    "path1 = \"data/train/Chorthippusmollis_XC752480-dat062-010_edit2.wav\"\n",
    "path2 = \"data/train/Chorthippusmollis_XC751760-dat005-064.wav\"\n",
    "\n",
    "wav_quite = load_wav(path1)\n",
    "wav_loud = load_wav(path2)"
   ]
  },
  {
   "cell_type": "code",
   "execution_count": null,
   "id": "0fd818a0",
   "metadata": {},
   "outputs": [],
   "source": [
    "wav_quite = wav_quite[wav_quite.argmax() - 66150: wav_quite.argmax() + 66150]\n",
    "wav_loud = wav_loud[wav_loud.argmax() - 66150: wav_loud.argmax() + 66150]"
   ]
  },
  {
   "cell_type": "code",
   "execution_count": null,
   "id": "957777f5",
   "metadata": {},
   "outputs": [],
   "source": [
    "wav_quite.shape, wav_loud.shape"
   ]
  },
  {
   "cell_type": "code",
   "execution_count": null,
   "id": "840519ca",
   "metadata": {},
   "outputs": [],
   "source": [
    "# wav_quite = 0.5 * (wav_quite / wav_quite.max())\n",
    "# wav_loud = 0.5 * (wav_loud / wav_loud.max())"
   ]
  },
  {
   "cell_type": "code",
   "execution_count": null,
   "id": "9cbc9896",
   "metadata": {},
   "outputs": [],
   "source": [
    "wav_loud.max()"
   ]
  },
  {
   "cell_type": "code",
   "execution_count": null,
   "id": "96ffdc11",
   "metadata": {},
   "outputs": [],
   "source": [
    "def calculate_melsp(x, n_fft=1024, hop_length=128):\n",
    "    stft = np.abs(librosa.stft(x, n_fft=n_fft, hop_length=hop_length))**2\n",
    "    log_stft = librosa.power_to_db(stft)\n",
    "    melsp = librosa.feature.melspectrogram(S=log_stft,n_mels=128)\n",
    "    return melsp"
   ]
  },
  {
   "cell_type": "code",
   "execution_count": null,
   "id": "1297a208",
   "metadata": {},
   "outputs": [],
   "source": [
    "quite_spec, loud_spec = calculate_melsp(wav_quite), calculate_melsp(wav_loud)"
   ]
  },
  {
   "cell_type": "code",
   "execution_count": null,
   "id": "a42cff3a",
   "metadata": {},
   "outputs": [],
   "source": [
    "quite_spec.max(), loud_spec.max()"
   ]
  },
  {
   "cell_type": "code",
   "execution_count": null,
   "id": "af85b2be",
   "metadata": {},
   "outputs": [],
   "source": [
    "plot_spectrogram(quite_spec)"
   ]
  },
  {
   "cell_type": "code",
   "execution_count": null,
   "id": "1074e70a",
   "metadata": {},
   "outputs": [],
   "source": [
    "plot_spectrogram(loud_spec)"
   ]
  },
  {
   "cell_type": "code",
   "execution_count": null,
   "id": "f82e2d96",
   "metadata": {},
   "outputs": [],
   "source": [
    "things to do:\n",
    "    nomralise waveform so they have same max\n",
    "    splite the waveforms using peaks"
   ]
  }
 ],
 "metadata": {
  "kernelspec": {
   "display_name": "Python 3 (ipykernel)",
   "language": "python",
   "name": "python3"
  },
  "language_info": {
   "codemirror_mode": {
    "name": "ipython",
    "version": 3
   },
   "file_extension": ".py",
   "mimetype": "text/x-python",
   "name": "python",
   "nbconvert_exporter": "python",
   "pygments_lexer": "ipython3",
   "version": "3.11.3"
  }
 },
 "nbformat": 4,
 "nbformat_minor": 5
}
