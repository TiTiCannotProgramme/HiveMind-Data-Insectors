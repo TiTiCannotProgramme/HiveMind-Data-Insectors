{
 "cells": [
  {
   "cell_type": "code",
   "execution_count": 1,
   "id": "aee504a5",
   "metadata": {},
   "outputs": [],
   "source": [
    "import torch, torchvision\n",
    "import sys # Python system library needed to load custom functions\n",
    "import math # module with access to mathematical functions\n",
    "import os # for changing the directory\n",
    "\n",
    "import numpy as np  # for performing calculations on numerical arrays\n",
    "import pandas as pd  # home of the DataFrame construct, _the_ most important object for Data Science\n",
    "from sklearn.model_selection import train_test_split\n",
    "import matplotlib.pyplot as plt  # allows creation of insightful plots\n",
    "\n",
    "sys.path.append('../audio_preprocessing')\n",
    "sys.path.append('../src')\n",
    "sys.path.append('../model_training_utils')\n",
    "\n",
    "\n",
    "import preprocessing_func_2\n",
    "import preprocessing_func_3\n",
    "from gdsc_utils import PROJECT_DIR\n",
    "import model_training\n",
    "import model_eval\n",
    "\n",
    "os.chdir(PROJECT_DIR) # changing our directory to root"
   ]
  },
  {
   "cell_type": "code",
   "execution_count": 2,
   "id": "4185a09f",
   "metadata": {},
   "outputs": [
    {
     "data": {
      "text/html": [
       "<div>\n",
       "<style scoped>\n",
       "    .dataframe tbody tr th:only-of-type {\n",
       "        vertical-align: middle;\n",
       "    }\n",
       "\n",
       "    .dataframe tbody tr th {\n",
       "        vertical-align: top;\n",
       "    }\n",
       "\n",
       "    .dataframe thead th {\n",
       "        text-align: right;\n",
       "    }\n",
       "</style>\n",
       "<table border=\"1\" class=\"dataframe\">\n",
       "  <thead>\n",
       "    <tr style=\"text-align: right;\">\n",
       "      <th></th>\n",
       "      <th>Unnamed: 0</th>\n",
       "      <th>file_path</th>\n",
       "      <th>label</th>\n",
       "    </tr>\n",
       "  </thead>\n",
       "  <tbody>\n",
       "    <tr>\n",
       "      <th>0</th>\n",
       "      <td>0</td>\n",
       "      <td>data/big_data_processed_train_and_val/0.wav</td>\n",
       "      <td>56</td>\n",
       "    </tr>\n",
       "    <tr>\n",
       "      <th>1</th>\n",
       "      <td>1</td>\n",
       "      <td>data/big_data_processed_train_and_val/1.wav</td>\n",
       "      <td>56</td>\n",
       "    </tr>\n",
       "    <tr>\n",
       "      <th>2</th>\n",
       "      <td>2</td>\n",
       "      <td>data/big_data_processed_train_and_val/2.wav</td>\n",
       "      <td>56</td>\n",
       "    </tr>\n",
       "    <tr>\n",
       "      <th>3</th>\n",
       "      <td>3</td>\n",
       "      <td>data/big_data_processed_train_and_val/3.wav</td>\n",
       "      <td>56</td>\n",
       "    </tr>\n",
       "    <tr>\n",
       "      <th>4</th>\n",
       "      <td>4</td>\n",
       "      <td>data/big_data_processed_train_and_val/4.wav</td>\n",
       "      <td>56</td>\n",
       "    </tr>\n",
       "  </tbody>\n",
       "</table>\n",
       "</div>"
      ],
      "text/plain": [
       "   Unnamed: 0                                    file_path  label\n",
       "0           0  data/big_data_processed_train_and_val/0.wav     56\n",
       "1           1  data/big_data_processed_train_and_val/1.wav     56\n",
       "2           2  data/big_data_processed_train_and_val/2.wav     56\n",
       "3           3  data/big_data_processed_train_and_val/3.wav     56\n",
       "4           4  data/big_data_processed_train_and_val/4.wav     56"
      ]
     },
     "execution_count": 2,
     "metadata": {},
     "output_type": "execute_result"
    }
   ],
   "source": [
    "df_big_data = pd.read_csv('data/big_data_processed_train_and_val.csv')\n",
    "df_big_argumented_data = pd.read_csv('data/big_argumentation_data_train_and_val.csv')\n",
    "df = pd.concat([df_big_data, df_big_argumented_data], ignore_index=True)\n",
    "df.head()"
   ]
  },
  {
   "cell_type": "code",
   "execution_count": null,
   "id": "82029104",
   "metadata": {},
   "outputs": [],
   "source": [
    "# paths, labels = list(df[\"path\"]), list(df[\"label\"])\n",
    "\n",
    "# generator = preprocessing_func_3.non_normalised_data_generator(\n",
    "#     paths, \n",
    "#     labels,\n",
    "# )\n",
    "\n",
    "# mean, std, class_weights = preprocessing_func_3.get_stats_and_class_weights_of_non_normalised_data_gen(\n",
    "#     generator,\n",
    "#     (128, 512)\n",
    "# )\n"
   ]
  },
  {
   "cell_type": "code",
   "execution_count": null,
   "id": "bc0683cc",
   "metadata": {},
   "outputs": [],
   "source": [
    "# import json\n",
    "\n",
    "# def save_as_json(path, description, mean, std, weights):\n",
    "#     my_dict = {\n",
    "#         \"description\": description,\n",
    "#         \"mean\": float(mean),\n",
    "#         \"std\": float(std),\n",
    "#         \"weights\": list(class_wights.astype(float)),\n",
    "#     }\n",
    "#     with open(path, 'w') as f:\n",
    "#         json.dump(my_dict, f)\n",
    "\n",
    "# save_as_json(\n",
    "#     \"audio_preprocessing/saved_data/upsampled_data_size_128_512.json\", \n",
    "#     \"seconds 1.5, image shape (128,512)\", mean, std, class_wights)"
   ]
  },
  {
   "cell_type": "code",
   "execution_count": 3,
   "id": "c32e7bc9",
   "metadata": {},
   "outputs": [],
   "source": [
    "import json\n",
    "\n",
    "with open('audio_preprocessing/saved_data/upsampled_data_size_128_512_train_and_val.json') as f:\n",
    "    my_info = json.load(f)\n",
    "\n",
    "mean, std, class_weights = my_info[\"mean\"], my_info[\"std\"], my_info[\"weights\"]"
   ]
  },
  {
   "cell_type": "code",
   "execution_count": 4,
   "id": "41083b30",
   "metadata": {},
   "outputs": [],
   "source": [
    "wav_path = df[\"file_path\"].values\n",
    "labels = df[\"label\"].values"
   ]
  },
  {
   "cell_type": "code",
   "execution_count": 5,
   "id": "3eb169a5",
   "metadata": {},
   "outputs": [
    {
     "data": {
      "text/plain": [
       "array(['data/big_data_processed_train_and_val/0.wav',\n",
       "       'data/big_data_processed_train_and_val/1.wav',\n",
       "       'data/big_data_processed_train_and_val/2.wav', ...,\n",
       "       'data/big_data_upsample_train_and_val/65627.wav',\n",
       "       'data/big_data_upsample_train_and_val/65628.wav',\n",
       "       'data/big_data_upsample_train_and_val/65629.wav'], dtype=object)"
      ]
     },
     "execution_count": 5,
     "metadata": {},
     "output_type": "execute_result"
    }
   ],
   "source": [
    "wav_path"
   ]
  },
  {
   "cell_type": "code",
   "execution_count": 6,
   "id": "0cd17e19",
   "metadata": {},
   "outputs": [
    {
     "data": {
      "text/plain": [
       "array([56, 56, 56, ..., 65, 65, 65], dtype=int64)"
      ]
     },
     "execution_count": 6,
     "metadata": {},
     "output_type": "execute_result"
    }
   ],
   "source": [
    "labels"
   ]
  },
  {
   "cell_type": "code",
   "execution_count": 7,
   "id": "76e6b1ff",
   "metadata": {},
   "outputs": [],
   "source": [
    "def wav_to_nomralised_image(\n",
    "    wav_path, \n",
    "    mean,\n",
    "    std,\n",
    "    mel_transform_fn=preprocessing_func_2.calculate_melsp, \n",
    "    image_preprocess_fn=preprocessing_func_2.resize_function()\n",
    "):\n",
    "    i = 0\n",
    "    new_paths_steam = \"data/image_train_val_with_upsample\"\n",
    "    new_paths = []\n",
    "    for path in wav_path:\n",
    "        # load the wav into a numpy array\n",
    "        wav = preprocessing_func_2.load_wav(path=path)\n",
    "        # change the wav into a melspectrogram of shape (128, 530), where\n",
    "        # the melspectrogram is a numpy array. Note all the wav files in\n",
    "        # paths are 1.5 seconds long, so all the melspectrograms are of \n",
    "        # the same shape.\n",
    "        db_mel_spec = mel_transform_fn(wav)\n",
    "        # change the wav into a melspectrogram from a numpy array of shape\n",
    "        # (128, 530) to a pytorch tensor of shape (1, 128, 530)\n",
    "        db_mel_spec = preprocessing_func_2.to_reshaped_tensor(db_mel_spec)\n",
    "        # change the pytorch tensor of shape (1, 128, 530) to shape (1, 128, 512)\n",
    "        db_mel_spec = image_preprocess_fn(db_mel_spec)\n",
    "        # normalise the pytorch tensor using mean and std calculated before\n",
    "        db_mel_spec = preprocessing_func_2.normalise_image(db_mel_spec, mean, std)\n",
    "        # save the normalised tensor to \"data/image_train_val_with_upsample\"\n",
    "        torch.save(db_mel_spec, f\"{new_paths_steam}/{i}.pt\")\n",
    "        new_paths.append(f\"{new_paths_steam}/{i}.pt\")\n",
    "        i += 1\n",
    "    return new_paths"
   ]
  },
  {
   "cell_type": "code",
   "execution_count": 8,
   "id": "72bb87f9",
   "metadata": {},
   "outputs": [],
   "source": [
    "new_paths = wav_to_nomralised_image(wav_path, mean, std)"
   ]
  },
  {
   "cell_type": "code",
   "execution_count": 9,
   "id": "c614c695",
   "metadata": {},
   "outputs": [],
   "source": [
    "image = torch.load(\"data/image_train_val_with_upsample/0.pt\")"
   ]
  },
  {
   "cell_type": "code",
   "execution_count": 10,
   "id": "1af8f7b0",
   "metadata": {},
   "outputs": [
    {
     "data": {
      "text/plain": [
       "tensor([[[ 1.0756,  1.2185,  1.2806,  ...,  0.9880,  1.0924,  1.0940],\n",
       "         [ 1.1905,  1.2817,  1.1888,  ...,  0.8558,  0.7310,  0.7372],\n",
       "         [ 1.2310,  1.3087,  1.1965,  ...,  0.7955,  0.5853,  0.5278],\n",
       "         ...,\n",
       "         [-0.0763,  0.3012,  0.5926,  ..., -0.9725, -0.8316, -0.8199],\n",
       "         [-0.2147,  0.3990,  0.7629,  ..., -0.9458, -0.8384, -0.8056],\n",
       "         [ 0.1670,  0.5333,  0.8066,  ..., -0.9471, -0.8797, -0.8188]]])"
      ]
     },
     "execution_count": 10,
     "metadata": {},
     "output_type": "execute_result"
    }
   ],
   "source": [
    "image"
   ]
  },
  {
   "cell_type": "code",
   "execution_count": 11,
   "id": "bae9f5b5",
   "metadata": {},
   "outputs": [],
   "source": [
    "my_dict = {\n",
    "    \"file_path\": new_paths,\n",
    "    \"label\": labels\n",
    "}\n",
    "\n",
    "processed_data_df = pd.DataFrame(my_dict)\n",
    "processed_data_df.to_csv(\"data/normalised_image_train_val_with_upsample.csv\")"
   ]
  },
  {
   "cell_type": "code",
   "execution_count": null,
   "id": "419f4188",
   "metadata": {},
   "outputs": [],
   "source": []
  }
 ],
 "metadata": {
  "kernelspec": {
   "display_name": "Python 3 (ipykernel)",
   "language": "python",
   "name": "python3"
  },
  "language_info": {
   "codemirror_mode": {
    "name": "ipython",
    "version": 3
   },
   "file_extension": ".py",
   "mimetype": "text/x-python",
   "name": "python",
   "nbconvert_exporter": "python",
   "pygments_lexer": "ipython3",
   "version": "3.11.3"
  }
 },
 "nbformat": 4,
 "nbformat_minor": 5
}
