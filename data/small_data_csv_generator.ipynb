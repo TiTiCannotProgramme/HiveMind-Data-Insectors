{
 "cells": [
  {
   "cell_type": "code",
   "execution_count": 11,
   "id": "7cefb135",
   "metadata": {},
   "outputs": [],
   "source": [
    "import pandas as pd\n",
    "import numpy as np"
   ]
  },
  {
   "cell_type": "code",
   "execution_count": 2,
   "id": "dc4c349b",
   "metadata": {},
   "outputs": [],
   "source": [
    "small_train_df = pd.read_csv(\"small_train_metadata.csv\")"
   ]
  },
  {
   "cell_type": "code",
   "execution_count": 6,
   "id": "30a7f291",
   "metadata": {},
   "outputs": [
    {
     "data": {
      "text/html": [
       "<div>\n",
       "<style scoped>\n",
       "    .dataframe tbody tr th:only-of-type {\n",
       "        vertical-align: middle;\n",
       "    }\n",
       "\n",
       "    .dataframe tbody tr th {\n",
       "        vertical-align: top;\n",
       "    }\n",
       "\n",
       "    .dataframe thead th {\n",
       "        text-align: right;\n",
       "    }\n",
       "</style>\n",
       "<table border=\"1\" class=\"dataframe\">\n",
       "  <thead>\n",
       "    <tr style=\"text-align: right;\">\n",
       "      <th></th>\n",
       "      <th>file_name</th>\n",
       "      <th>label</th>\n",
       "    </tr>\n",
       "  </thead>\n",
       "  <tbody>\n",
       "    <tr>\n",
       "      <th>0</th>\n",
       "      <td>Pseudochorthippusmontanus_XC752610-dat016-016_...</td>\n",
       "      <td>54</td>\n",
       "    </tr>\n",
       "    <tr>\n",
       "      <th>1</th>\n",
       "      <td>Pholidopteragriseoaptera_XC752318-dat005-038_e...</td>\n",
       "      <td>43</td>\n",
       "    </tr>\n",
       "    <tr>\n",
       "      <th>2</th>\n",
       "      <td>Chorthippusmollis_XC751772-dat005-076.wav</td>\n",
       "      <td>11</td>\n",
       "    </tr>\n",
       "    <tr>\n",
       "      <th>3</th>\n",
       "      <td>Pholidopteralittoralis_XC752436-dat047-003_edi...</td>\n",
       "      <td>44</td>\n",
       "    </tr>\n",
       "    <tr>\n",
       "      <th>4</th>\n",
       "      <td>Roeselianaroeselii_XC752376-dat006-019.wav</td>\n",
       "      <td>56</td>\n",
       "    </tr>\n",
       "  </tbody>\n",
       "</table>\n",
       "</div>"
      ],
      "text/plain": [
       "                                           file_name  label\n",
       "0  Pseudochorthippusmontanus_XC752610-dat016-016_...     54\n",
       "1  Pholidopteragriseoaptera_XC752318-dat005-038_e...     43\n",
       "2          Chorthippusmollis_XC751772-dat005-076.wav     11\n",
       "3  Pholidopteralittoralis_XC752436-dat047-003_edi...     44\n",
       "4         Roeselianaroeselii_XC752376-dat006-019.wav     56"
      ]
     },
     "execution_count": 6,
     "metadata": {},
     "output_type": "execute_result"
    }
   ],
   "source": [
    "small_train_df.head()"
   ]
  },
  {
   "cell_type": "code",
   "execution_count": 10,
   "id": "d4f46bc0",
   "metadata": {},
   "outputs": [
    {
     "data": {
      "text/plain": [
       "(176,)"
      ]
     },
     "execution_count": 10,
     "metadata": {},
     "output_type": "execute_result"
    }
   ],
   "source": [
    "small_train_df[\"file_name\"].shape"
   ]
  },
  {
   "cell_type": "code",
   "execution_count": 12,
   "id": "2e267fb2",
   "metadata": {},
   "outputs": [],
   "source": [
    "values = np.zeros(176)"
   ]
  },
  {
   "cell_type": "code",
   "execution_count": 14,
   "id": "38a503ae",
   "metadata": {},
   "outputs": [],
   "source": [
    "small_train_df[\"path\"] = values"
   ]
  },
  {
   "cell_type": "code",
   "execution_count": 15,
   "id": "2517761b",
   "metadata": {},
   "outputs": [
    {
     "data": {
      "text/html": [
       "<div>\n",
       "<style scoped>\n",
       "    .dataframe tbody tr th:only-of-type {\n",
       "        vertical-align: middle;\n",
       "    }\n",
       "\n",
       "    .dataframe tbody tr th {\n",
       "        vertical-align: top;\n",
       "    }\n",
       "\n",
       "    .dataframe thead th {\n",
       "        text-align: right;\n",
       "    }\n",
       "</style>\n",
       "<table border=\"1\" class=\"dataframe\">\n",
       "  <thead>\n",
       "    <tr style=\"text-align: right;\">\n",
       "      <th></th>\n",
       "      <th>file_name</th>\n",
       "      <th>label</th>\n",
       "      <th>path</th>\n",
       "    </tr>\n",
       "  </thead>\n",
       "  <tbody>\n",
       "    <tr>\n",
       "      <th>0</th>\n",
       "      <td>Pseudochorthippusmontanus_XC752610-dat016-016_...</td>\n",
       "      <td>54</td>\n",
       "      <td>0.0</td>\n",
       "    </tr>\n",
       "    <tr>\n",
       "      <th>1</th>\n",
       "      <td>Pholidopteragriseoaptera_XC752318-dat005-038_e...</td>\n",
       "      <td>43</td>\n",
       "      <td>0.0</td>\n",
       "    </tr>\n",
       "    <tr>\n",
       "      <th>2</th>\n",
       "      <td>Chorthippusmollis_XC751772-dat005-076.wav</td>\n",
       "      <td>11</td>\n",
       "      <td>0.0</td>\n",
       "    </tr>\n",
       "    <tr>\n",
       "      <th>3</th>\n",
       "      <td>Pholidopteralittoralis_XC752436-dat047-003_edi...</td>\n",
       "      <td>44</td>\n",
       "      <td>0.0</td>\n",
       "    </tr>\n",
       "    <tr>\n",
       "      <th>4</th>\n",
       "      <td>Roeselianaroeselii_XC752376-dat006-019.wav</td>\n",
       "      <td>56</td>\n",
       "      <td>0.0</td>\n",
       "    </tr>\n",
       "  </tbody>\n",
       "</table>\n",
       "</div>"
      ],
      "text/plain": [
       "                                           file_name  label  path\n",
       "0  Pseudochorthippusmontanus_XC752610-dat016-016_...     54   0.0\n",
       "1  Pholidopteragriseoaptera_XC752318-dat005-038_e...     43   0.0\n",
       "2          Chorthippusmollis_XC751772-dat005-076.wav     11   0.0\n",
       "3  Pholidopteralittoralis_XC752436-dat047-003_edi...     44   0.0\n",
       "4         Roeselianaroeselii_XC752376-dat006-019.wav     56   0.0"
      ]
     },
     "execution_count": 15,
     "metadata": {},
     "output_type": "execute_result"
    }
   ],
   "source": [
    "small_train_df.head()"
   ]
  },
  {
   "cell_type": "code",
   "execution_count": 24,
   "id": "53257efc",
   "metadata": {},
   "outputs": [],
   "source": [
    "result = small_train_df.apply(lambda row: \"data/train/\" + row[\"file_name\"], axis=1)"
   ]
  },
  {
   "cell_type": "code",
   "execution_count": 25,
   "id": "f9678783",
   "metadata": {},
   "outputs": [],
   "source": [
    "small_train_df[\"path\"] = result"
   ]
  },
  {
   "cell_type": "code",
   "execution_count": 26,
   "id": "3a9424b0",
   "metadata": {},
   "outputs": [
    {
     "data": {
      "text/html": [
       "<div>\n",
       "<style scoped>\n",
       "    .dataframe tbody tr th:only-of-type {\n",
       "        vertical-align: middle;\n",
       "    }\n",
       "\n",
       "    .dataframe tbody tr th {\n",
       "        vertical-align: top;\n",
       "    }\n",
       "\n",
       "    .dataframe thead th {\n",
       "        text-align: right;\n",
       "    }\n",
       "</style>\n",
       "<table border=\"1\" class=\"dataframe\">\n",
       "  <thead>\n",
       "    <tr style=\"text-align: right;\">\n",
       "      <th></th>\n",
       "      <th>file_name</th>\n",
       "      <th>label</th>\n",
       "      <th>path</th>\n",
       "    </tr>\n",
       "  </thead>\n",
       "  <tbody>\n",
       "    <tr>\n",
       "      <th>0</th>\n",
       "      <td>Pseudochorthippusmontanus_XC752610-dat016-016_...</td>\n",
       "      <td>54</td>\n",
       "      <td>data/train/Pseudochorthippusmontanus_XC752610-...</td>\n",
       "    </tr>\n",
       "    <tr>\n",
       "      <th>1</th>\n",
       "      <td>Pholidopteragriseoaptera_XC752318-dat005-038_e...</td>\n",
       "      <td>43</td>\n",
       "      <td>data/train/Pholidopteragriseoaptera_XC752318-d...</td>\n",
       "    </tr>\n",
       "    <tr>\n",
       "      <th>2</th>\n",
       "      <td>Chorthippusmollis_XC751772-dat005-076.wav</td>\n",
       "      <td>11</td>\n",
       "      <td>data/train/Chorthippusmollis_XC751772-dat005-0...</td>\n",
       "    </tr>\n",
       "    <tr>\n",
       "      <th>3</th>\n",
       "      <td>Pholidopteralittoralis_XC752436-dat047-003_edi...</td>\n",
       "      <td>44</td>\n",
       "      <td>data/train/Pholidopteralittoralis_XC752436-dat...</td>\n",
       "    </tr>\n",
       "    <tr>\n",
       "      <th>4</th>\n",
       "      <td>Roeselianaroeselii_XC752376-dat006-019.wav</td>\n",
       "      <td>56</td>\n",
       "      <td>data/train/Roeselianaroeselii_XC752376-dat006-...</td>\n",
       "    </tr>\n",
       "  </tbody>\n",
       "</table>\n",
       "</div>"
      ],
      "text/plain": [
       "                                           file_name  label  \\\n",
       "0  Pseudochorthippusmontanus_XC752610-dat016-016_...     54   \n",
       "1  Pholidopteragriseoaptera_XC752318-dat005-038_e...     43   \n",
       "2          Chorthippusmollis_XC751772-dat005-076.wav     11   \n",
       "3  Pholidopteralittoralis_XC752436-dat047-003_edi...     44   \n",
       "4         Roeselianaroeselii_XC752376-dat006-019.wav     56   \n",
       "\n",
       "                                                path  \n",
       "0  data/train/Pseudochorthippusmontanus_XC752610-...  \n",
       "1  data/train/Pholidopteragriseoaptera_XC752318-d...  \n",
       "2  data/train/Chorthippusmollis_XC751772-dat005-0...  \n",
       "3  data/train/Pholidopteralittoralis_XC752436-dat...  \n",
       "4  data/train/Roeselianaroeselii_XC752376-dat006-...  "
      ]
     },
     "execution_count": 26,
     "metadata": {},
     "output_type": "execute_result"
    }
   ],
   "source": [
    "small_train_df.head()"
   ]
  },
  {
   "cell_type": "code",
   "execution_count": 27,
   "id": "a6dad427",
   "metadata": {},
   "outputs": [],
   "source": [
    "small_train_df.to_csv(\"small_train_with_path.csv\", index=False)"
   ]
  },
  {
   "cell_type": "code",
   "execution_count": 29,
   "id": "4bd618c5",
   "metadata": {},
   "outputs": [],
   "source": [
    "small_val_df = pd.read_csv(\"small_val_metadata.csv\")"
   ]
  },
  {
   "cell_type": "code",
   "execution_count": null,
   "id": "db00235c",
   "metadata": {},
   "outputs": [],
   "source": [
    "result = small_train_df.apply(lambda row: \"data/train/\" + row[\"file_name\"], axis=1)"
   ]
  }
 ],
 "metadata": {
  "kernelspec": {
   "display_name": "Python 3 (ipykernel)",
   "language": "python",
   "name": "python3"
  },
  "language_info": {
   "codemirror_mode": {
    "name": "ipython",
    "version": 3
   },
   "file_extension": ".py",
   "mimetype": "text/x-python",
   "name": "python",
   "nbconvert_exporter": "python",
   "pygments_lexer": "ipython3",
   "version": "3.11.3"
  }
 },
 "nbformat": 4,
 "nbformat_minor": 5
}
