{
 "cells": [
  {
   "cell_type": "code",
   "execution_count": 1,
   "id": "336faa48",
   "metadata": {},
   "outputs": [],
   "source": [
    "import torch, torchvision\n",
    "import sys # Python system library needed to load custom functions\n",
    "import math # module with access to mathematical functions\n",
    "import os # for changing the directory\n",
    "\n",
    "import numpy as np  # for performing calculations on numerical arrays\n",
    "import pandas as pd  # home of the DataFrame construct, _the_ most important object for Data Science\n",
    "import librosa\n",
    "import matplotlib.pyplot as plt  # allows creation of insightful plots\n",
    "\n",
    "sys.path.append('../audio_preprocessing')\n",
    "sys.path.append('../src')\n",
    "sys.path.append('../model_training_utils')\n",
    "\n",
    "\n",
    "import preprocessing_func_2\n",
    "from generator_to_dataset_2 import NormalisedDataSet\n",
    "from gdsc_utils import PROJECT_DIR\n",
    "import model_training\n",
    "import model_eval\n",
    "\n",
    "os.chdir(PROJECT_DIR) # changing our directory to root"
   ]
  },
  {
   "cell_type": "code",
   "execution_count": 2,
   "id": "dfdd415e",
   "metadata": {},
   "outputs": [],
   "source": [
    "df = pd.read_csv('data/metadata.csv')"
   ]
  },
  {
   "cell_type": "code",
   "execution_count": 3,
   "id": "0808bec9",
   "metadata": {},
   "outputs": [],
   "source": [
    "def process_and_save_wav(paths, labels, chunk_size:int=66150, wav_max_amplitude:float=0.5, sr=44100):\n",
    "    new_paths = []\n",
    "    new_labels = []\n",
    "    i = 0\n",
    "    for (path, label) in zip(paths, labels):\n",
    "        wav = preprocessing_func_2.load_wav(path=path)\n",
    "        wav = preprocessing_func_2.normalise_wav(wav=wav, wav_max_amplitude=wav_max_amplitude)\n",
    "        peaks = preprocessing_func_2.find_wav_peaks(wav=wav, distance_between_peaks=chunk_size)\n",
    "        if peaks is None:\n",
    "            wav = preprocessing_func_2.process_small_wav(wav=wav, chunk_size=chunk_size)\n",
    "            if len(wav) != 66150:\n",
    "                print(\"process_small_wav gone wrong\")\n",
    "                print(f\"length of wav is {len(wav)}\")\n",
    "                print(path, label)\n",
    "                print()\n",
    "                new_paths.append(path)\n",
    "                new_labels.append(label)\n",
    "            continue\n",
    "        for chunks in preprocessing_func_2.split_wav_by_peaks(wav=wav, peaks=peaks, chunk_size=chunk_size):\n",
    "            if len(chunks) != 66150:\n",
    "                print(\"split_wav_by_peaks gone wrong\")\n",
    "                print(f\"length of wav is {len(chunks)}\")\n",
    "                print(path, label)\n",
    "                print()\n",
    "                new_paths.append(path)\n",
    "                new_labels.append(label)\n",
    "    return new_paths, new_labels"
   ]
  },
  {
   "cell_type": "code",
   "execution_count": 4,
   "id": "bda0c250",
   "metadata": {},
   "outputs": [],
   "source": [
    "paths, labels = list(df[\"path\"]), list(df[\"label\"])\n",
    "\n",
    "new_paths, new_labels = process_and_save_wav(paths, labels)"
   ]
  },
  {
   "cell_type": "code",
   "execution_count": null,
   "id": "a091f125",
   "metadata": {},
   "outputs": [],
   "source": []
  }
 ],
 "metadata": {
  "kernelspec": {
   "display_name": "Python 3 (ipykernel)",
   "language": "python",
   "name": "python3"
  },
  "language_info": {
   "codemirror_mode": {
    "name": "ipython",
    "version": 3
   },
   "file_extension": ".py",
   "mimetype": "text/x-python",
   "name": "python",
   "nbconvert_exporter": "python",
   "pygments_lexer": "ipython3",
   "version": "3.11.3"
  }
 },
 "nbformat": 4,
 "nbformat_minor": 5
}
