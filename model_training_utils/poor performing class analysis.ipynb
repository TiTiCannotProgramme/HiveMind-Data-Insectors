{
 "cells": [
  {
   "cell_type": "code",
   "execution_count": 1,
   "id": "a49a23bd",
   "metadata": {},
   "outputs": [],
   "source": [
    "import torch, torchvision\n",
    "import sys # Python system library needed to load custom functions\n",
    "import math # module with access to mathematical functions\n",
    "import os # for changing the directory\n",
    "\n",
    "import numpy as np  # for performing calculations on numerical arrays\n",
    "import pandas as pd  # home of the DataFrame construct, _the_ most important object for Data Science\n",
    "from sklearn.model_selection import train_test_split\n",
    "import matplotlib.pyplot as plt  # allows creation of insightful plots\n",
    "\n",
    "sys.path.append('../audio_preprocessing')\n",
    "sys.path.append('../src')\n",
    "sys.path.append('../model_training_utils')\n",
    "\n",
    "\n",
    "import preprocessing_func_3\n",
    "import preprocessing_func_2\n",
    "from generator_to_dataset_3 import NormalisedDataSet\n",
    "from gdsc_utils import PROJECT_DIR\n",
    "import model_training\n",
    "import model_eval\n",
    "\n",
    "os.chdir(PROJECT_DIR) # changing our directory to root"
   ]
  },
  {
   "cell_type": "code",
   "execution_count": 2,
   "id": "558e5015",
   "metadata": {},
   "outputs": [],
   "source": [
    "#poor formorming classes = 8, 28, 30, 52, 57, 58"
   ]
  },
  {
   "cell_type": "code",
   "execution_count": 3,
   "id": "a1d7b496",
   "metadata": {},
   "outputs": [
    {
     "data": {
      "text/html": [
       "<div>\n",
       "<style scoped>\n",
       "    .dataframe tbody tr th:only-of-type {\n",
       "        vertical-align: middle;\n",
       "    }\n",
       "\n",
       "    .dataframe tbody tr th {\n",
       "        vertical-align: top;\n",
       "    }\n",
       "\n",
       "    .dataframe thead th {\n",
       "        text-align: right;\n",
       "    }\n",
       "</style>\n",
       "<table border=\"1\" class=\"dataframe\">\n",
       "  <thead>\n",
       "    <tr style=\"text-align: right;\">\n",
       "      <th></th>\n",
       "      <th>file_name</th>\n",
       "      <th>unique_file</th>\n",
       "      <th>path</th>\n",
       "      <th>species</th>\n",
       "      <th>label</th>\n",
       "      <th>subset</th>\n",
       "      <th>sample_rate</th>\n",
       "      <th>num_frames</th>\n",
       "      <th>length</th>\n",
       "    </tr>\n",
       "  </thead>\n",
       "  <tbody>\n",
       "    <tr>\n",
       "      <th>4</th>\n",
       "      <td>Atrapsaltacorticina_GBIF2901504947_IN62966536_...</td>\n",
       "      <td>Atrapsaltacorticina_GBIF2901504947_IN62966536_...</td>\n",
       "      <td>data/val/Atrapsaltacorticina_GBIF2901504947_IN...</td>\n",
       "      <td>Atrapsaltacorticina</td>\n",
       "      <td>3</td>\n",
       "      <td>validation</td>\n",
       "      <td>44100</td>\n",
       "      <td>502740</td>\n",
       "      <td>11.400000</td>\n",
       "    </tr>\n",
       "    <tr>\n",
       "      <th>9</th>\n",
       "      <td>Chorthippusbrunneus_XC751398-dat022-008_edit5.wav</td>\n",
       "      <td>Chorthippusbrunneus_XC751398-dat022-008</td>\n",
       "      <td>data/val/Chorthippusbrunneus_XC751398-dat022-0...</td>\n",
       "      <td>Chorthippusbrunneus</td>\n",
       "      <td>10</td>\n",
       "      <td>validation</td>\n",
       "      <td>44100</td>\n",
       "      <td>220500</td>\n",
       "      <td>5.000000</td>\n",
       "    </tr>\n",
       "    <tr>\n",
       "      <th>10</th>\n",
       "      <td>Psaltodaplaga_GBIF3031797565_IN68469430_159997...</td>\n",
       "      <td>Psaltodaplaga_GBIF3031797565_IN68469430_159997</td>\n",
       "      <td>data/val/Psaltodaplaga_GBIF3031797565_IN684694...</td>\n",
       "      <td>Psaltodaplaga</td>\n",
       "      <td>53</td>\n",
       "      <td>validation</td>\n",
       "      <td>44100</td>\n",
       "      <td>238140</td>\n",
       "      <td>5.400000</td>\n",
       "    </tr>\n",
       "    <tr>\n",
       "      <th>11</th>\n",
       "      <td>Omocestusviridulus_XC752267-dat013-003_edit2.wav</td>\n",
       "      <td>Omocestusviridulus_XC752267-dat013-003</td>\n",
       "      <td>data/val/Omocestusviridulus_XC752267-dat013-00...</td>\n",
       "      <td>Omocestusviridulus</td>\n",
       "      <td>39</td>\n",
       "      <td>validation</td>\n",
       "      <td>44100</td>\n",
       "      <td>1375437</td>\n",
       "      <td>31.189048</td>\n",
       "    </tr>\n",
       "    <tr>\n",
       "      <th>15</th>\n",
       "      <td>Omocestusviridulus_XC752263-dat012-007_edit1.wav</td>\n",
       "      <td>Omocestusviridulus_XC752263-dat012-007</td>\n",
       "      <td>data/val/Omocestusviridulus_XC752263-dat012-00...</td>\n",
       "      <td>Omocestusviridulus</td>\n",
       "      <td>39</td>\n",
       "      <td>validation</td>\n",
       "      <td>44100</td>\n",
       "      <td>970200</td>\n",
       "      <td>22.000000</td>\n",
       "    </tr>\n",
       "  </tbody>\n",
       "</table>\n",
       "</div>"
      ],
      "text/plain": [
       "                                            file_name  \\\n",
       "4   Atrapsaltacorticina_GBIF2901504947_IN62966536_...   \n",
       "9   Chorthippusbrunneus_XC751398-dat022-008_edit5.wav   \n",
       "10  Psaltodaplaga_GBIF3031797565_IN68469430_159997...   \n",
       "11   Omocestusviridulus_XC752267-dat013-003_edit2.wav   \n",
       "15   Omocestusviridulus_XC752263-dat012-007_edit1.wav   \n",
       "\n",
       "                                          unique_file  \\\n",
       "4   Atrapsaltacorticina_GBIF2901504947_IN62966536_...   \n",
       "9             Chorthippusbrunneus_XC751398-dat022-008   \n",
       "10     Psaltodaplaga_GBIF3031797565_IN68469430_159997   \n",
       "11             Omocestusviridulus_XC752267-dat013-003   \n",
       "15             Omocestusviridulus_XC752263-dat012-007   \n",
       "\n",
       "                                                 path              species  \\\n",
       "4   data/val/Atrapsaltacorticina_GBIF2901504947_IN...  Atrapsaltacorticina   \n",
       "9   data/val/Chorthippusbrunneus_XC751398-dat022-0...  Chorthippusbrunneus   \n",
       "10  data/val/Psaltodaplaga_GBIF3031797565_IN684694...        Psaltodaplaga   \n",
       "11  data/val/Omocestusviridulus_XC752267-dat013-00...   Omocestusviridulus   \n",
       "15  data/val/Omocestusviridulus_XC752263-dat012-00...   Omocestusviridulus   \n",
       "\n",
       "    label      subset  sample_rate  num_frames     length  \n",
       "4       3  validation        44100      502740  11.400000  \n",
       "9      10  validation        44100      220500   5.000000  \n",
       "10     53  validation        44100      238140   5.400000  \n",
       "11     39  validation        44100     1375437  31.189048  \n",
       "15     39  validation        44100      970200  22.000000  "
      ]
     },
     "execution_count": 3,
     "metadata": {},
     "output_type": "execute_result"
    }
   ],
   "source": [
    "df_big_long_wav = pd.read_csv('data/metadata.csv')\n",
    "df_val_long_wav = df_big_long_wav[df_big_long_wav[\"subset\"]==\"validation\"]\n",
    "df_val_long_wav.head()"
   ]
  },
  {
   "cell_type": "code",
   "execution_count": 7,
   "id": "260b4bb5",
   "metadata": {},
   "outputs": [
    {
     "data": {
      "text/html": [
       "<div>\n",
       "<style scoped>\n",
       "    .dataframe tbody tr th:only-of-type {\n",
       "        vertical-align: middle;\n",
       "    }\n",
       "\n",
       "    .dataframe tbody tr th {\n",
       "        vertical-align: top;\n",
       "    }\n",
       "\n",
       "    .dataframe thead th {\n",
       "        text-align: right;\n",
       "    }\n",
       "</style>\n",
       "<table border=\"1\" class=\"dataframe\">\n",
       "  <thead>\n",
       "    <tr style=\"text-align: right;\">\n",
       "      <th></th>\n",
       "      <th>file_name</th>\n",
       "      <th>unique_file</th>\n",
       "      <th>path</th>\n",
       "      <th>species</th>\n",
       "      <th>label</th>\n",
       "      <th>subset</th>\n",
       "      <th>sample_rate</th>\n",
       "      <th>num_frames</th>\n",
       "      <th>length</th>\n",
       "    </tr>\n",
       "  </thead>\n",
       "  <tbody>\n",
       "    <tr>\n",
       "      <th>709</th>\n",
       "      <td>Gryllusbimaculatus_XC751729-dat007-025.wav</td>\n",
       "      <td>Gryllusbimaculatus_XC751729-dat007-025</td>\n",
       "      <td>data/val/Gryllusbimaculatus_XC751729-dat007-02...</td>\n",
       "      <td>Gryllusbimaculatus</td>\n",
       "      <td>28</td>\n",
       "      <td>validation</td>\n",
       "      <td>44100</td>\n",
       "      <td>4053162</td>\n",
       "      <td>91.908435</td>\n",
       "    </tr>\n",
       "    <tr>\n",
       "      <th>895</th>\n",
       "      <td>Gryllusbimaculatus_GBIF3384375694_IN95557245_3...</td>\n",
       "      <td>Gryllusbimaculatus_GBIF3384375694_IN95557245_3...</td>\n",
       "      <td>data/val/Gryllusbimaculatus_GBIF3384375694_IN9...</td>\n",
       "      <td>Gryllusbimaculatus</td>\n",
       "      <td>28</td>\n",
       "      <td>validation</td>\n",
       "      <td>44100</td>\n",
       "      <td>523264</td>\n",
       "      <td>11.865397</td>\n",
       "    </tr>\n",
       "    <tr>\n",
       "      <th>1081</th>\n",
       "      <td>Gryllusbimaculatus_XC751728-dat007-024.wav</td>\n",
       "      <td>Gryllusbimaculatus_XC751728-dat007-024</td>\n",
       "      <td>data/val/Gryllusbimaculatus_XC751728-dat007-02...</td>\n",
       "      <td>Gryllusbimaculatus</td>\n",
       "      <td>28</td>\n",
       "      <td>validation</td>\n",
       "      <td>44100</td>\n",
       "      <td>10131066</td>\n",
       "      <td>229.729388</td>\n",
       "    </tr>\n",
       "    <tr>\n",
       "      <th>1617</th>\n",
       "      <td>Gryllusbimaculatus_XC753100-Gryllus-bimaculatu...</td>\n",
       "      <td>Gryllusbimaculatus_XC753100-Gryllus-bimaculatu...</td>\n",
       "      <td>data/val/Gryllusbimaculatus_XC753100-Gryllus-b...</td>\n",
       "      <td>Gryllusbimaculatus</td>\n",
       "      <td>28</td>\n",
       "      <td>validation</td>\n",
       "      <td>44100</td>\n",
       "      <td>1064843</td>\n",
       "      <td>24.146100</td>\n",
       "    </tr>\n",
       "  </tbody>\n",
       "</table>\n",
       "</div>"
      ],
      "text/plain": [
       "                                              file_name  \\\n",
       "709          Gryllusbimaculatus_XC751729-dat007-025.wav   \n",
       "895   Gryllusbimaculatus_GBIF3384375694_IN95557245_3...   \n",
       "1081         Gryllusbimaculatus_XC751728-dat007-024.wav   \n",
       "1617  Gryllusbimaculatus_XC753100-Gryllus-bimaculatu...   \n",
       "\n",
       "                                            unique_file  \\\n",
       "709              Gryllusbimaculatus_XC751729-dat007-025   \n",
       "895   Gryllusbimaculatus_GBIF3384375694_IN95557245_3...   \n",
       "1081             Gryllusbimaculatus_XC751728-dat007-024   \n",
       "1617  Gryllusbimaculatus_XC753100-Gryllus-bimaculatu...   \n",
       "\n",
       "                                                   path             species  \\\n",
       "709   data/val/Gryllusbimaculatus_XC751729-dat007-02...  Gryllusbimaculatus   \n",
       "895   data/val/Gryllusbimaculatus_GBIF3384375694_IN9...  Gryllusbimaculatus   \n",
       "1081  data/val/Gryllusbimaculatus_XC751728-dat007-02...  Gryllusbimaculatus   \n",
       "1617  data/val/Gryllusbimaculatus_XC753100-Gryllus-b...  Gryllusbimaculatus   \n",
       "\n",
       "      label      subset  sample_rate  num_frames      length  \n",
       "709      28  validation        44100     4053162   91.908435  \n",
       "895      28  validation        44100      523264   11.865397  \n",
       "1081     28  validation        44100    10131066  229.729388  \n",
       "1617     28  validation        44100     1064843   24.146100  "
      ]
     },
     "execution_count": 7,
     "metadata": {},
     "output_type": "execute_result"
    }
   ],
   "source": [
    "df_val_28 = df_val_long_wav[df_val_long_wav[\"label\"] == 28]\n",
    "df_val_28"
   ]
  },
  {
   "cell_type": "code",
   "execution_count": 10,
   "id": "399ad856",
   "metadata": {},
   "outputs": [
    {
     "data": {
      "text/plain": [
       "'data/val/Gryllusbimaculatus_XC751729-dat007-025.wav'"
      ]
     },
     "execution_count": 10,
     "metadata": {},
     "output_type": "execute_result"
    }
   ],
   "source": [
    "file_path = df_val_28.iloc[0][\"path\"]\n",
    "file_path"
   ]
  },
  {
   "cell_type": "code",
   "execution_count": 12,
   "id": "cf9b0f14",
   "metadata": {},
   "outputs": [],
   "source": [
    "wav = preprocessing_func_2.load_wav(file_path)\n",
    "wav = preprocessing_func_2.normalise_wav(wav)\n",
    "peaks = preprocessing_func_2.find_wav_peaks(wav)"
   ]
  },
  {
   "cell_type": "code",
   "execution_count": 13,
   "id": "35a2ce58",
   "metadata": {},
   "outputs": [
    {
     "data": {
      "text/plain": [
       "array([  64627,  138982,  220258,  296342,  383185,  452451,  519547,\n",
       "        587341,  660560,  726711,  795410,  900057, 1004372, 1091393,\n",
       "       1213339, 1284379, 1371321, 1437777, 1525926, 1606400, 1733558,\n",
       "       1839597, 1954416, 2030030, 2099635, 2168203, 2248087, 2319574,\n",
       "       2447901, 2520372, 2613035, 2743083, 2872347, 2950605, 3034985,\n",
       "       3169657, 3276698, 3343522, 3434203, 3520941, 3610936, 3717776,\n",
       "       3790897, 3864155, 3946865, 4015291], dtype=int64)"
      ]
     },
     "execution_count": 13,
     "metadata": {},
     "output_type": "execute_result"
    }
   ],
   "source": [
    "peaks"
   ]
  },
  {
   "cell_type": "code",
   "execution_count": 14,
   "id": "6a087167",
   "metadata": {},
   "outputs": [
    {
     "data": {
      "text/plain": [
       "[<matplotlib.lines.Line2D at 0x2dc8b4a7890>]"
      ]
     },
     "execution_count": 14,
     "metadata": {},
     "output_type": "execute_result"
    },
    {
     "data": {
      "image/png": "[encoded data removed]",
      "text/plain": [
       "<Figure size 640x480 with 1 Axes>"
      ]
     },
     "metadata": {},
     "output_type": "display_data"
    }
   ],
   "source": [
    "import matplotlib.pyplot as plt\n",
    "\n",
    "plt.plot(peaks[:2], wav[:166200][peaks[:2]], \"vg\")\n",
    "plt.plot(wav[:166200])"
   ]
  },
  {
   "cell_type": "code",
   "execution_count": null,
   "id": "2d13f24c",
   "metadata": {},
   "outputs": [],
   "source": []
  }
 ],
 "metadata": {
  "kernelspec": {
   "display_name": "Python 3 (ipykernel)",
   "language": "python",
   "name": "python3"
  },
  "language_info": {
   "codemirror_mode": {
    "name": "ipython",
    "version": 3
   },
   "file_extension": ".py",
   "mimetype": "text/x-python",
   "name": "python",
   "nbconvert_exporter": "python",
   "pygments_lexer": "ipython3",
   "version": "3.11.3"
  }
 },
 "nbformat": 4,
 "nbformat_minor": 5
}
